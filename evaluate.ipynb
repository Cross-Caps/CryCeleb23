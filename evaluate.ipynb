{
 "cells": [
  {
   "attachments": {},
   "cell_type": "markdown",
   "metadata": {
    "id": "7gd-5ANmkKSu"
   },
   "source": [
    "# Evaluation notebook for [CryCeleb2023 challenge](https://huggingface.co/spaces/competitions/CryCeleb2023)\n",
    "\n",
    "## This notebook does the following:\n",
    "- Download the Cryceleb data from Hugging Face.\n",
    "- Download a pretrained SpeechBrain model from Hugging Face.\n",
    "- Compute embeddings.\n",
    "- Compute similarity scores for pairs of embeddings.\n",
    "- Compute the equal error rate of the scores and visualize results.\n",
    "- Produces my_solution.csv that can be uploaded to the competition platform."
   ]
  },
  {
   "attachments": {},
   "cell_type": "markdown",
   "metadata": {
    "id": "fwKCGXetl_Jd"
   },
   "source": [
    "### Imports"
   ]
  },
  {
   "cell_type": "code",
   "execution_count": 1,
   "metadata": {
    "id": "ZZqSCpv_lUIa"
   },
   "outputs": [],
   "source": [
    "import matplotlib.pyplot as plt\n",
    "import numpy as np\n",
    "import pandas as pd\n",
    "import seaborn as sns\n",
    "import speechbrain as sb\n",
    "import torch\n",
    "import random\n",
    "from huggingface_hub import hf_hub_download\n",
    "from IPython.display import display\n",
    "from speechbrain.dataio.dataio import read_audio\n",
    "from speechbrain.pretrained import EncoderClassifier, SpeakerRecognition\n",
    "from speechbrain.utils.metric_stats import EER\n",
    "from tqdm.notebook import tqdm\n",
    "\n",
    "from crybrain import download_data\n",
    "\n",
    "dataset_path = \"data\""
   ]
  },
  {
   "attachments": {},
   "cell_type": "markdown",
   "metadata": {
    "id": "AUNVrz16mNZH"
   },
   "source": [
    "### Data"
   ]
  },
  {
   "cell_type": "code",
   "execution_count": 2,
   "metadata": {
    "colab": {
     "base_uri": "https://localhost:8080/",
     "height": 871
    },
    "id": "CenUmoY_mMqw",
    "outputId": "1bb9f7b1-fae0-4f58-8a6a-c50c8780379a"
   },
   "outputs": [
    {
     "data": {
      "text/html": [
       "<style type=\"text/css\">\n",
       "#T_46fda caption {\n",
       "  font-size: 20px;\n",
       "}\n",
       "</style>\n",
       "<table id=\"T_46fda\">\n",
       "  <caption>metadata</caption>\n",
       "  <thead>\n",
       "    <tr>\n",
       "      <th class=\"blank level0\" >&nbsp;</th>\n",
       "      <th id=\"T_46fda_level0_col0\" class=\"col_heading level0 col0\" >baby_id</th>\n",
       "      <th id=\"T_46fda_level0_col1\" class=\"col_heading level0 col1\" >period</th>\n",
       "      <th id=\"T_46fda_level0_col2\" class=\"col_heading level0 col2\" >duration</th>\n",
       "      <th id=\"T_46fda_level0_col3\" class=\"col_heading level0 col3\" >split</th>\n",
       "      <th id=\"T_46fda_level0_col4\" class=\"col_heading level0 col4\" >chronological_index</th>\n",
       "      <th id=\"T_46fda_level0_col5\" class=\"col_heading level0 col5\" >file_name</th>\n",
       "      <th id=\"T_46fda_level0_col6\" class=\"col_heading level0 col6\" >file_id</th>\n",
       "    </tr>\n",
       "  </thead>\n",
       "  <tbody>\n",
       "    <tr>\n",
       "      <th id=\"T_46fda_level0_row0\" class=\"row_heading level0 row0\" >0</th>\n",
       "      <td id=\"T_46fda_row0_col0\" class=\"data row0 col0\" >0694</td>\n",
       "      <td id=\"T_46fda_row0_col1\" class=\"data row0 col1\" >B</td>\n",
       "      <td id=\"T_46fda_row0_col2\" class=\"data row0 col2\" >1.320000</td>\n",
       "      <td id=\"T_46fda_row0_col3\" class=\"data row0 col3\" >dev</td>\n",
       "      <td id=\"T_46fda_row0_col4\" class=\"data row0 col4\" >000</td>\n",
       "      <td id=\"T_46fda_row0_col5\" class=\"data row0 col5\" >audio/dev/0694/B/0694_B_000.wav</td>\n",
       "      <td id=\"T_46fda_row0_col6\" class=\"data row0 col6\" >0694_B_000</td>\n",
       "    </tr>\n",
       "    <tr>\n",
       "      <th id=\"T_46fda_level0_row1\" class=\"row_heading level0 row1\" >1</th>\n",
       "      <td id=\"T_46fda_row1_col0\" class=\"data row1 col0\" >0694</td>\n",
       "      <td id=\"T_46fda_row1_col1\" class=\"data row1 col1\" >B</td>\n",
       "      <td id=\"T_46fda_row1_col2\" class=\"data row1 col2\" >0.940000</td>\n",
       "      <td id=\"T_46fda_row1_col3\" class=\"data row1 col3\" >dev</td>\n",
       "      <td id=\"T_46fda_row1_col4\" class=\"data row1 col4\" >001</td>\n",
       "      <td id=\"T_46fda_row1_col5\" class=\"data row1 col5\" >audio/dev/0694/B/0694_B_001.wav</td>\n",
       "      <td id=\"T_46fda_row1_col6\" class=\"data row1 col6\" >0694_B_001</td>\n",
       "    </tr>\n",
       "    <tr>\n",
       "      <th id=\"T_46fda_level0_row2\" class=\"row_heading level0 row2\" >2</th>\n",
       "      <td id=\"T_46fda_row2_col0\" class=\"data row2 col0\" >0694</td>\n",
       "      <td id=\"T_46fda_row2_col1\" class=\"data row2 col1\" >B</td>\n",
       "      <td id=\"T_46fda_row2_col2\" class=\"data row2 col2\" >0.880000</td>\n",
       "      <td id=\"T_46fda_row2_col3\" class=\"data row2 col3\" >dev</td>\n",
       "      <td id=\"T_46fda_row2_col4\" class=\"data row2 col4\" >002</td>\n",
       "      <td id=\"T_46fda_row2_col5\" class=\"data row2 col5\" >audio/dev/0694/B/0694_B_002.wav</td>\n",
       "      <td id=\"T_46fda_row2_col6\" class=\"data row2 col6\" >0694_B_002</td>\n",
       "    </tr>\n",
       "    <tr>\n",
       "      <th id=\"T_46fda_level0_row3\" class=\"row_heading level0 row3\" >3</th>\n",
       "      <td id=\"T_46fda_row3_col0\" class=\"data row3 col0\" >0694</td>\n",
       "      <td id=\"T_46fda_row3_col1\" class=\"data row3 col1\" >B</td>\n",
       "      <td id=\"T_46fda_row3_col2\" class=\"data row3 col2\" >1.130000</td>\n",
       "      <td id=\"T_46fda_row3_col3\" class=\"data row3 col3\" >dev</td>\n",
       "      <td id=\"T_46fda_row3_col4\" class=\"data row3 col4\" >003</td>\n",
       "      <td id=\"T_46fda_row3_col5\" class=\"data row3 col5\" >audio/dev/0694/B/0694_B_003.wav</td>\n",
       "      <td id=\"T_46fda_row3_col6\" class=\"data row3 col6\" >0694_B_003</td>\n",
       "    </tr>\n",
       "    <tr>\n",
       "      <th id=\"T_46fda_level0_row4\" class=\"row_heading level0 row4\" >4</th>\n",
       "      <td id=\"T_46fda_row4_col0\" class=\"data row4 col0\" >0694</td>\n",
       "      <td id=\"T_46fda_row4_col1\" class=\"data row4 col1\" >B</td>\n",
       "      <td id=\"T_46fda_row4_col2\" class=\"data row4 col2\" >1.180000</td>\n",
       "      <td id=\"T_46fda_row4_col3\" class=\"data row4 col3\" >dev</td>\n",
       "      <td id=\"T_46fda_row4_col4\" class=\"data row4 col4\" >004</td>\n",
       "      <td id=\"T_46fda_row4_col5\" class=\"data row4 col5\" >audio/dev/0694/B/0694_B_004.wav</td>\n",
       "      <td id=\"T_46fda_row4_col6\" class=\"data row4 col6\" >0694_B_004</td>\n",
       "    </tr>\n",
       "  </tbody>\n",
       "</table>\n"
      ],
      "text/plain": [
       "<pandas.io.formats.style.Styler at 0x7fa153265c00>"
      ]
     },
     "metadata": {},
     "output_type": "display_data"
    },
    {
     "data": {
      "text/html": [
       "<style type=\"text/css\">\n",
       "#T_cb253 caption {\n",
       "  font-size: 20px;\n",
       "}\n",
       "</style>\n",
       "<table id=\"T_cb253\">\n",
       "  <caption>dev_pairs</caption>\n",
       "  <thead>\n",
       "    <tr>\n",
       "      <th class=\"blank level0\" >&nbsp;</th>\n",
       "      <th id=\"T_cb253_level0_col0\" class=\"col_heading level0 col0\" >baby_id_B</th>\n",
       "      <th id=\"T_cb253_level0_col1\" class=\"col_heading level0 col1\" >baby_id_D</th>\n",
       "      <th id=\"T_cb253_level0_col2\" class=\"col_heading level0 col2\" >id</th>\n",
       "      <th id=\"T_cb253_level0_col3\" class=\"col_heading level0 col3\" >label</th>\n",
       "    </tr>\n",
       "  </thead>\n",
       "  <tbody>\n",
       "    <tr>\n",
       "      <th id=\"T_cb253_level0_row0\" class=\"row_heading level0 row0\" >0</th>\n",
       "      <td id=\"T_cb253_row0_col0\" class=\"data row0 col0\" >0133</td>\n",
       "      <td id=\"T_cb253_row0_col1\" class=\"data row0 col1\" >0611</td>\n",
       "      <td id=\"T_cb253_row0_col2\" class=\"data row0 col2\" >0133B_0611D</td>\n",
       "      <td id=\"T_cb253_row0_col3\" class=\"data row0 col3\" >0</td>\n",
       "    </tr>\n",
       "    <tr>\n",
       "      <th id=\"T_cb253_level0_row1\" class=\"row_heading level0 row1\" >1</th>\n",
       "      <td id=\"T_cb253_row1_col0\" class=\"data row1 col0\" >0593</td>\n",
       "      <td id=\"T_cb253_row1_col1\" class=\"data row1 col1\" >0584</td>\n",
       "      <td id=\"T_cb253_row1_col2\" class=\"data row1 col2\" >0593B_0584D</td>\n",
       "      <td id=\"T_cb253_row1_col3\" class=\"data row1 col3\" >0</td>\n",
       "    </tr>\n",
       "    <tr>\n",
       "      <th id=\"T_cb253_level0_row2\" class=\"row_heading level0 row2\" >2</th>\n",
       "      <td id=\"T_cb253_row2_col0\" class=\"data row2 col0\" >0094</td>\n",
       "      <td id=\"T_cb253_row2_col1\" class=\"data row2 col1\" >0292</td>\n",
       "      <td id=\"T_cb253_row2_col2\" class=\"data row2 col2\" >0094B_0292D</td>\n",
       "      <td id=\"T_cb253_row2_col3\" class=\"data row2 col3\" >0</td>\n",
       "    </tr>\n",
       "    <tr>\n",
       "      <th id=\"T_cb253_level0_row3\" class=\"row_heading level0 row3\" >3</th>\n",
       "      <td id=\"T_cb253_row3_col0\" class=\"data row3 col0\" >0563</td>\n",
       "      <td id=\"T_cb253_row3_col1\" class=\"data row3 col1\" >0094</td>\n",
       "      <td id=\"T_cb253_row3_col2\" class=\"data row3 col2\" >0563B_0094D</td>\n",
       "      <td id=\"T_cb253_row3_col3\" class=\"data row3 col3\" >0</td>\n",
       "    </tr>\n",
       "    <tr>\n",
       "      <th id=\"T_cb253_level0_row4\" class=\"row_heading level0 row4\" >4</th>\n",
       "      <td id=\"T_cb253_row4_col0\" class=\"data row4 col0\" >0122</td>\n",
       "      <td id=\"T_cb253_row4_col1\" class=\"data row4 col1\" >0694</td>\n",
       "      <td id=\"T_cb253_row4_col2\" class=\"data row4 col2\" >0122B_0694D</td>\n",
       "      <td id=\"T_cb253_row4_col3\" class=\"data row4 col3\" >0</td>\n",
       "    </tr>\n",
       "  </tbody>\n",
       "</table>\n"
      ],
      "text/plain": [
       "<pandas.io.formats.style.Styler at 0x7fa1504d3d30>"
      ]
     },
     "metadata": {},
     "output_type": "display_data"
    },
    {
     "data": {
      "text/html": [
       "<style type=\"text/css\">\n",
       "#T_d19c3 caption {\n",
       "  font-size: 20px;\n",
       "}\n",
       "</style>\n",
       "<table id=\"T_d19c3\">\n",
       "  <caption>test_pairs</caption>\n",
       "  <thead>\n",
       "    <tr>\n",
       "      <th class=\"blank level0\" >&nbsp;</th>\n",
       "      <th id=\"T_d19c3_level0_col0\" class=\"col_heading level0 col0\" >baby_id_B</th>\n",
       "      <th id=\"T_d19c3_level0_col1\" class=\"col_heading level0 col1\" >baby_id_D</th>\n",
       "      <th id=\"T_d19c3_level0_col2\" class=\"col_heading level0 col2\" >id</th>\n",
       "    </tr>\n",
       "  </thead>\n",
       "  <tbody>\n",
       "    <tr>\n",
       "      <th id=\"T_d19c3_level0_row0\" class=\"row_heading level0 row0\" >0</th>\n",
       "      <td id=\"T_d19c3_row0_col0\" class=\"data row0 col0\" >anonymous027</td>\n",
       "      <td id=\"T_d19c3_row0_col1\" class=\"data row0 col1\" >anonymous212</td>\n",
       "      <td id=\"T_d19c3_row0_col2\" class=\"data row0 col2\" >anonymous027B_anonymous212D</td>\n",
       "    </tr>\n",
       "    <tr>\n",
       "      <th id=\"T_d19c3_level0_row1\" class=\"row_heading level0 row1\" >1</th>\n",
       "      <td id=\"T_d19c3_row1_col0\" class=\"data row1 col0\" >anonymous035</td>\n",
       "      <td id=\"T_d19c3_row1_col1\" class=\"data row1 col1\" >anonymous225</td>\n",
       "      <td id=\"T_d19c3_row1_col2\" class=\"data row1 col2\" >anonymous035B_anonymous225D</td>\n",
       "    </tr>\n",
       "    <tr>\n",
       "      <th id=\"T_d19c3_level0_row2\" class=\"row_heading level0 row2\" >2</th>\n",
       "      <td id=\"T_d19c3_row2_col0\" class=\"data row2 col0\" >anonymous029</td>\n",
       "      <td id=\"T_d19c3_row2_col1\" class=\"data row2 col1\" >anonymous288</td>\n",
       "      <td id=\"T_d19c3_row2_col2\" class=\"data row2 col2\" >anonymous029B_anonymous288D</td>\n",
       "    </tr>\n",
       "    <tr>\n",
       "      <th id=\"T_d19c3_level0_row3\" class=\"row_heading level0 row3\" >3</th>\n",
       "      <td id=\"T_d19c3_row3_col0\" class=\"data row3 col0\" >anonymous001</td>\n",
       "      <td id=\"T_d19c3_row3_col1\" class=\"data row3 col1\" >anonymous204</td>\n",
       "      <td id=\"T_d19c3_row3_col2\" class=\"data row3 col2\" >anonymous001B_anonymous204D</td>\n",
       "    </tr>\n",
       "    <tr>\n",
       "      <th id=\"T_d19c3_level0_row4\" class=\"row_heading level0 row4\" >4</th>\n",
       "      <td id=\"T_d19c3_row4_col0\" class=\"data row4 col0\" >anonymous075</td>\n",
       "      <td id=\"T_d19c3_row4_col1\" class=\"data row4 col1\" >anonymous244</td>\n",
       "      <td id=\"T_d19c3_row4_col2\" class=\"data row4 col2\" >anonymous075B_anonymous244D</td>\n",
       "    </tr>\n",
       "  </tbody>\n",
       "</table>\n"
      ],
      "text/plain": [
       "<pandas.io.formats.style.Styler at 0x7fa1504d3460>"
      ]
     },
     "metadata": {},
     "output_type": "display_data"
    },
    {
     "data": {
      "text/html": [
       "<style type=\"text/css\">\n",
       "#T_bf05a caption {\n",
       "  font-size: 20px;\n",
       "}\n",
       "</style>\n",
       "<table id=\"T_bf05a\">\n",
       "  <caption>sample_submission</caption>\n",
       "  <thead>\n",
       "    <tr>\n",
       "      <th class=\"blank level0\" >&nbsp;</th>\n",
       "      <th id=\"T_bf05a_level0_col0\" class=\"col_heading level0 col0\" >id</th>\n",
       "      <th id=\"T_bf05a_level0_col1\" class=\"col_heading level0 col1\" >score</th>\n",
       "    </tr>\n",
       "  </thead>\n",
       "  <tbody>\n",
       "    <tr>\n",
       "      <th id=\"T_bf05a_level0_row0\" class=\"row_heading level0 row0\" >0</th>\n",
       "      <td id=\"T_bf05a_row0_col0\" class=\"data row0 col0\" >anonymous027B_anonymous212D</td>\n",
       "      <td id=\"T_bf05a_row0_col1\" class=\"data row0 col1\" >0.548814</td>\n",
       "    </tr>\n",
       "    <tr>\n",
       "      <th id=\"T_bf05a_level0_row1\" class=\"row_heading level0 row1\" >1</th>\n",
       "      <td id=\"T_bf05a_row1_col0\" class=\"data row1 col0\" >anonymous035B_anonymous225D</td>\n",
       "      <td id=\"T_bf05a_row1_col1\" class=\"data row1 col1\" >0.715189</td>\n",
       "    </tr>\n",
       "    <tr>\n",
       "      <th id=\"T_bf05a_level0_row2\" class=\"row_heading level0 row2\" >2</th>\n",
       "      <td id=\"T_bf05a_row2_col0\" class=\"data row2 col0\" >anonymous029B_anonymous288D</td>\n",
       "      <td id=\"T_bf05a_row2_col1\" class=\"data row2 col1\" >0.602763</td>\n",
       "    </tr>\n",
       "    <tr>\n",
       "      <th id=\"T_bf05a_level0_row3\" class=\"row_heading level0 row3\" >3</th>\n",
       "      <td id=\"T_bf05a_row3_col0\" class=\"data row3 col0\" >anonymous001B_anonymous204D</td>\n",
       "      <td id=\"T_bf05a_row3_col1\" class=\"data row3 col1\" >0.544883</td>\n",
       "    </tr>\n",
       "    <tr>\n",
       "      <th id=\"T_bf05a_level0_row4\" class=\"row_heading level0 row4\" >4</th>\n",
       "      <td id=\"T_bf05a_row4_col0\" class=\"data row4 col0\" >anonymous075B_anonymous244D</td>\n",
       "      <td id=\"T_bf05a_row4_col1\" class=\"data row4 col1\" >0.423655</td>\n",
       "    </tr>\n",
       "  </tbody>\n",
       "</table>\n"
      ],
      "text/plain": [
       "<pandas.io.formats.style.Styler at 0x7fa1504d3d30>"
      ]
     },
     "metadata": {},
     "output_type": "display_data"
    }
   ],
   "source": [
    "# read metadata\n",
    "metadata = pd.read_csv(\n",
    "    f\"{dataset_path}/metadata.csv\", dtype={\"baby_id\": str, \"chronological_index\": str}\n",
    ")\n",
    "dev_metadata = metadata.loc[metadata[\"split\"] == \"dev\"].copy()\n",
    "# read sample submission\n",
    "sample_submission = pd.read_csv(\n",
    "    f\"{dataset_path}/sample_submission.csv\"\n",
    ")  # scores are unfiorm random\n",
    "# read verification pairs\n",
    "dev_pairs = pd.read_csv(\n",
    "    f\"{dataset_path}/dev_pairs.csv\", dtype={\"baby_id_B\": str, \"baby_id_D\": str}\n",
    ")\n",
    "test_pairs = pd.read_csv(f\"{dataset_path}/test_pairs.csv\")\n",
    "\n",
    "display(\n",
    "    metadata.head()\n",
    "    .style.set_caption(\"metadata\")\n",
    "    .set_table_styles([{\"selector\": \"caption\", \"props\": [(\"font-size\", \"20px\")]}])\n",
    ")\n",
    "display(\n",
    "    dev_pairs.head()\n",
    "    .style.set_caption(\"dev_pairs\")\n",
    "    .set_table_styles([{\"selector\": \"caption\", \"props\": [(\"font-size\", \"20px\")]}])\n",
    ")\n",
    "display(\n",
    "    test_pairs.head()\n",
    "    .style.set_caption(\"test_pairs\")\n",
    "    .set_table_styles([{\"selector\": \"caption\", \"props\": [(\"font-size\", \"20px\")]}])\n",
    ")\n",
    "display(\n",
    "    sample_submission.head()\n",
    "    .style.set_caption(\"sample_submission\")\n",
    "    .set_table_styles([{\"selector\": \"caption\", \"props\": [(\"font-size\", \"20px\")]}])\n",
    ")"
   ]
  },
  {
   "attachments": {},
   "cell_type": "markdown",
   "metadata": {
    "id": "i7qn0lFdmOlF"
   },
   "source": [
    "### Initialize encoder"
   ]
  },
  {
   "attachments": {},
   "cell_type": "markdown",
   "metadata": {
    "id": "Rtgd7qlfmUWC"
   },
   "source": [
    "One way to verify if both pairs come from the same baby is to concatenate all the segments for each pair, compute the embedding of the concatenated cry, and compute the cosine similarity between the embeddings.\n",
    "\n",
    "Let's load the model"
   ]
  },
  {
   "cell_type": "code",
   "execution_count": 3,
   "metadata": {
    "colab": {
     "base_uri": "https://localhost:8080/",
     "height": 81,
     "referenced_widgets": [
      "a5a6c8050ce444fe9e5e3835af2c89f7",
      "ffe1c871271b4eeb8566f8c3e9535679",
      "fe22550070ad45c4a23564099beafadd",
      "8657df05011a4f5f8cf0492aed78e819",
      "7d7bf74077214e65b3727346d8e4485b",
      "d31bd375beac4b308abc9751e88d6762",
      "7359bf51f90846999bc7e6fedf1ab4f1",
      "635dd9fb9e844c99b60812acd3b8cefc",
      "9bcebcb7cb224ff9ba92e3693adcf04e",
      "4a8dffe277524f48aa5e2cdb76d22926",
      "dab9e9c96c344b78abf24353bbbeebb9",
      "785545f1963f4f6d849fb562f31a3c0d",
      "2c7f0724170f4e0d9d74677aad6e18a3",
      "f876ee90477b41e3972374a5f874647c",
      "da7ba01d01c84602a5066475ddba8195",
      "cd5315c7c4ed475f837285339fca2fcc",
      "0adc32cfd65441f4becabf682041611f",
      "d9c373060ef242cba7b669582645ef69",
      "732fe933fcb14a1f8b32988dc5ab41a3",
      "2b4b55f6867443e0b10ae8caccef9fc2",
      "4c950b1378d34aeea6d87f53f6e5484e",
      "9760ab6f43f94981986f37a79cf0bdd7"
     ]
    },
    "id": "CsE0Z6JCmSBv",
    "outputId": "6c22b5b6-a996-4312-b33e-78e89de6cc33"
   },
   "outputs": [],
   "source": [
    "!rm -rf spkrec-ecapa-voxceleb\n",
    "encoder = SpeakerRecognition.from_hparams(\n",
    "    source=\"speechbrain/spkrec-ecapa-voxceleb\",\n",
    "    savedir=\"spkrec-ecapa-voxceleb\",\n",
    "    run_opts={\"device\": \"cuda\"},  # comment out if no GPU available\n",
    ")"
   ]
  },
  {
   "cell_type": "code",
   "execution_count": 4,
   "metadata": {},
   "outputs": [],
   "source": [
    "# you can also plug in your encoder weights if you fine-tuned this model locally\n",
    "!rm -rf spkrec-ecapa-voxceleb/\n",
    "!mkdir spkrec-ecapa-voxceleb\n",
    "!cp embedding_model.ckpt spkrec-ecapa-voxceleb/embedding_model.ckpt\n",
    "encoder = SpeakerRecognition.from_hparams(\n",
    "    source=\"speechbrain/spkrec-ecapa-voxceleb\",\n",
    "    savedir=\"spkrec-ecapa-voxceleb\",\n",
    "    run_opts={\"device\": \"cuda\"},  # comment out if no GPU available\n",
    " )"
   ]
  },
  {
   "cell_type": "code",
   "execution_count": 5,
   "metadata": {},
   "outputs": [],
   "source": [
    "def shuffle_group_and_concat(x, n=5):\n",
    "    concatenated_results = []\n",
    "    for _ in range(n):\n",
    "        shuffled_values = x.values.copy()\n",
    "        random.shuffle(shuffled_values)\n",
    "        concatenated = np.concatenate(shuffled_values)\n",
    "        concatenated_results.append(concatenated)\n",
    "    return concatenated_results"
   ]
  },
  {
   "attachments": {},
   "cell_type": "markdown",
   "metadata": {
    "id": "vUP0tjNImYT4"
   },
   "source": [
    "#### Compute Encodings"
   ]
  },
  {
   "attachments": {},
   "cell_type": "markdown",
   "metadata": {
    "id": "mFTLJ74s6I3_"
   },
   "source": [
    "Change runtime type to GPU if using Colab"
   ]
  },
  {
   "cell_type": "code",
   "execution_count": 7,
   "metadata": {
    "colab": {
     "base_uri": "https://localhost:8080/",
     "height": 159,
     "referenced_widgets": [
      "780d053589614f1981ce9c3bc1bf2633",
      "d7869f0445404dfa98a36832af202d75",
      "36248ef425d84a31a5f2b4bf0935d1ce",
      "dcf4695b9f694a55a9fa0691f7c0b236",
      "bbb7c274e05c4feba27a1968b0566621",
      "790b64fac2d84d10b2fb6a1d1ba30b7f",
      "9d7d86758d46432085a7f1eeef6ee589",
      "75ef1cc7d24b47fe8dbd1b3e9b8c974d",
      "e9b6cee88af34f968c4d09d232b62120",
      "366a1031361647ec8aad6b599a2746a1",
      "a1ff4f5afe694b4b86e1aa80fa0169e5"
     ]
    },
    "id": "rgMZ8rrBmWc3",
    "outputId": "7894ce23-2972-4554-ccd1-d84f52230bdd"
   },
   "outputs": [
    {
     "data": {
      "application/vnd.jupyter.widget-view+json": {
       "model_id": "4a3e062c652f4e41aa3f3cdd2d52ae90",
       "version_major": 2,
       "version_minor": 0
      },
      "text/plain": [
       "  0%|          | 0/80 [00:00<?, ?it/s]"
      ]
     },
     "metadata": {},
     "output_type": "display_data"
    },
    {
     "name": "stderr",
     "output_type": "stream",
     "text": [
      "/home/siddhant2021565/miniconda3/envs/COMPARE/lib/python3.10/site-packages/torch/functional.py:641: UserWarning: stft with return_complex=False is deprecated. In a future pytorch release, stft will return complex tensors for all inputs, and return_complex=False will raise an error.\n",
      "Note: you can still call torch.view_as_real on the complex output to recover the old return format. (Triggered internally at /opt/conda/conda-bld/pytorch_1682343967769/work/aten/src/ATen/native/SpectralOps.cpp:862.)\n",
      "  return _VF.stft(input, n_fft, hop_length, win_length, window,  # type: ignore[attr-defined]\n"
     ]
    },
    {
     "name": "stdout",
     "output_type": "stream",
     "text": [
      "CPU times: user 4.54 s, sys: 418 ms, total: 4.95 s\n",
      "Wall time: 5.1 s\n"
     ]
    }
   ],
   "source": [
    "%%time\n",
    "# read the segments\n",
    "dev_metadata = metadata.loc[metadata['split']=='dev'].copy()\n",
    "dev_metadata['cry'] = dev_metadata.apply(lambda row: read_audio(dataset_path+'/'+row['file_name']).numpy(), axis=1)\n",
    "grouped_data = dev_metadata.groupby(['baby_id', 'period'])['cry']\n",
    "cry_dict = {}\n",
    "for key, group in grouped_data:\n",
    "    cry_dict[key] = {'cry': shuffle_group_and_concat(group, 5)}\n",
    "    \n",
    "for (baby_id, period), d in tqdm(cry_dict.items()):\n",
    "    cry_array = d['cry']\n",
    "    cry_encoded_list = []\n",
    "\n",
    "    for row in cry_array:\n",
    "        encoded_row = encoder.encode_batch(torch.from_numpy(row))\n",
    "        cry_encoded_list.append(encoded_row)\n",
    "\n",
    "    d['cry_encoded'] = cry_encoded_list"
   ]
  },
  {
   "attachments": {},
   "cell_type": "markdown",
   "metadata": {
    "id": "PF4Sa3BnmcLA"
   },
   "source": [
    "#### Compute Similarity Between Encodings"
   ]
  },
  {
   "cell_type": "code",
   "execution_count": 8,
   "metadata": {
    "colab": {
     "base_uri": "https://localhost:8080/",
     "height": 206
    },
    "id": "lgaScJgImcaO",
    "outputId": "691c5120-65d9-4eae-8d4f-c8d79a502254"
   },
   "outputs": [],
   "source": [
    "def compute_cosine_similarity_score(row, cry_dict):\n",
    "    \"\"\" Average scores for all possible pairs \"\"\"\n",
    "    cos = torch.nn.CosineSimilarity(dim=-1)\n",
    "    encoded_cry_B = cry_dict[(row['baby_id_B'], 'B')]['cry_encoded']\n",
    "    encoded_cry_D = cry_dict[(row['baby_id_D'], 'D')]['cry_encoded']\n",
    "    \n",
    "    similarity_scores = []\n",
    "    for tensor_B in encoded_cry_B:\n",
    "        for tensor_D in encoded_cry_D:\n",
    "            similarity_score = cos(tensor_B, tensor_D)\n",
    "            similarity_scores.append(similarity_score.item())\n",
    "    \n",
    "    return sum(similarity_scores) / len(similarity_scores)\n",
    "\n",
    "dev_pairs['score'] = dev_pairs.apply(lambda row: compute_cosine_similarity_score(row=row, cry_dict=cry_dict), axis=1)"
   ]
  },
  {
   "cell_type": "code",
   "execution_count": 9,
   "metadata": {
    "colab": {
     "base_uri": "https://localhost:8080/",
     "height": 472
    },
    "id": "3tBfFZ1OmeaG",
    "outputId": "9eedd68d-69f2-44da-d156-6db7acce7e4d"
   },
   "outputs": [
    {
     "data": {
      "image/png": "[encoded data removed]",
      "text/plain": [
       "<Figure size 640x480 with 1 Axes>"
      ]
     },
     "metadata": {},
     "output_type": "display_data"
    }
   ],
   "source": [
    "def compute_eer_and_plot_verification_scores(pairs_df):\n",
    "    \"\"\"pairs_df must have 'score' and 'label' columns\"\"\"\n",
    "    positive_scores = pairs_df.loc[pairs_df[\"label\"] == 1][\"score\"].values\n",
    "    negative_scores = pairs_df.loc[pairs_df[\"label\"] == 0][\"score\"].values\n",
    "    eer, threshold = EER(torch.tensor(positive_scores), torch.tensor(negative_scores))\n",
    "    ax = sns.histplot(pairs_df, x=\"score\", hue=\"label\", stat=\"percent\", common_norm=False)\n",
    "    ax.set_title(f\"EER={round(eer, 4)} - Thresh={round(threshold, 4)}\")\n",
    "    plt.axvline(x=[threshold], color=\"red\", ls=\"--\")\n",
    "    return eer, threshold\n",
    "\n",
    "\n",
    "eer, threshold = compute_eer_and_plot_verification_scores(pairs_df=dev_pairs)"
   ]
  },
  {
   "attachments": {},
   "cell_type": "markdown",
   "metadata": {
    "id": "LEjkMjYN17rf"
   },
   "source": [
    "The above plot displays the histogram of scores for +ive (same baby) and -ive (different baby) dev_pairs.\\\n",
    "A perfect verifier would attribute a higher score to all +ive pairs than any -ive pair.\\\n",
    "Your task is to come up with a scoring system which maximizes the separation between the two distributions, as measured by the EER.\\\n",
    "You can change the encoder module, the aggregation of cry segments, the similarity metric, or come up with a completely different process! \\\n",
    "You will be evaluated on the test_pairs.csv, for which ground truth labels are not provided.\n",
    "\n",
    "\n"
   ]
  },
  {
   "attachments": {},
   "cell_type": "markdown",
   "metadata": {
    "id": "yINubTKWImh1"
   },
   "source": [
    "Score the test_pairs and submit:\n",
    "\n"
   ]
  },
  {
   "cell_type": "code",
   "execution_count": 10,
   "metadata": {
    "colab": {
     "base_uri": "https://localhost:8080/",
     "height": 274,
     "referenced_widgets": [
      "fe70b8c96fdc4f5695438719d0a538f0",
      "60d9353fa67d47b08d6f79fe9edf14ff",
      "6d6f9ae639ea4b39943fa5abc84f2aaf",
      "10fb5219f51c455bb1039fe19513175d",
      "fe030cd60b6a49f9a5e22c53df2c1fbb",
      "7203a181918148d1a5e0fadd8d33344d",
      "751cbbff056f476aba01b860f14a1b52",
      "39c3334153a74fb8b9c470e55dac6e4c",
      "c4077ea694104e908743bd647fb228b7",
      "31f214f5206f4939a9e7eafff0fdb63c",
      "e67f032a44a1490e9eefa81886a86705"
     ]
    },
    "id": "q7LrpPFVIGir",
    "outputId": "43ce30ba-debd-49a0-f0e8-d6b82c7653b7"
   },
   "outputs": [
    {
     "data": {
      "application/vnd.jupyter.widget-view+json": {
       "model_id": "1d21523bc61a4faf813e5e35685aac1c",
       "version_major": 2,
       "version_minor": 0
      },
      "text/plain": [
       "  0%|          | 0/320 [00:00<?, ?it/s]"
      ]
     },
     "metadata": {},
     "output_type": "display_data"
    }
   ],
   "source": [
    "%%time\n",
    "test_metadata = metadata.loc[metadata['split']=='test'].copy()\n",
    "test_metadata['cry'] = test_metadata.apply(lambda row: read_audio(dataset_path+'/'+row['file_name']).numpy(), axis=1)\n",
    "grouped_data = test_metadata.groupby(['baby_id', 'period'])['cry']\n",
    "cry_dict_test = {}\n",
    "for key, group in grouped_data:\n",
    "    cry_dict_test[key] = {'cry': shuffle_group_and_concat(group, 5)}\n",
    "for (baby_id, period), d in tqdm(cry_dict_test.items()):\n",
    "    cry_array = d['cry']\n",
    "    cry_encoded_list = []\n",
    "\n",
    "    for row in cry_array:\n",
    "        encoded_row = encoder.encode_batch(torch.from_numpy(row))\n",
    "        cry_encoded_list.append(encoded_row)\n",
    "\n",
    "    d['cry_encoded'] = cry_encoded_list\n",
    "test_pairs['score'] = test_pairs.apply(lambda row: compute_cosine_similarity_score(row=row, cry_dict=cry_dict_test), axis=1)\n"
   ]
  },
  {
   "cell_type": "code",
   "execution_count": null,
   "metadata": {
    "colab": {
     "base_uri": "https://localhost:8080/",
     "height": 206
    },
    "id": "4ZYkMxOrKRQ3",
    "outputId": "c58ed78b-1295-4209-c474-384e421cc779"
   },
   "outputs": [
    {
     "data": {
      "text/html": [
       "<div>\n",
       "<style scoped>\n",
       "    .dataframe tbody tr th:only-of-type {\n",
       "        vertical-align: middle;\n",
       "    }\n",
       "\n",
       "    .dataframe tbody tr th {\n",
       "        vertical-align: top;\n",
       "    }\n",
       "\n",
       "    .dataframe thead th {\n",
       "        text-align: right;\n",
       "    }\n",
       "</style>\n",
       "<table border=\"1\" class=\"dataframe\">\n",
       "  <thead>\n",
       "    <tr style=\"text-align: right;\">\n",
       "      <th></th>\n",
       "      <th>id</th>\n",
       "      <th>score</th>\n",
       "    </tr>\n",
       "  </thead>\n",
       "  <tbody>\n",
       "    <tr>\n",
       "      <th>0</th>\n",
       "      <td>anonymous027B_anonymous212D</td>\n",
       "      <td>-0.004342</td>\n",
       "    </tr>\n",
       "    <tr>\n",
       "      <th>1</th>\n",
       "      <td>anonymous035B_anonymous225D</td>\n",
       "      <td>-0.026720</td>\n",
       "    </tr>\n",
       "    <tr>\n",
       "      <th>2</th>\n",
       "      <td>anonymous029B_anonymous288D</td>\n",
       "      <td>0.165620</td>\n",
       "    </tr>\n",
       "    <tr>\n",
       "      <th>3</th>\n",
       "      <td>anonymous001B_anonymous204D</td>\n",
       "      <td>0.114384</td>\n",
       "    </tr>\n",
       "    <tr>\n",
       "      <th>4</th>\n",
       "      <td>anonymous075B_anonymous244D</td>\n",
       "      <td>0.070589</td>\n",
       "    </tr>\n",
       "  </tbody>\n",
       "</table>\n",
       "</div>"
      ],
      "text/plain": [
       "                            id     score\n",
       "0  anonymous027B_anonymous212D -0.004342\n",
       "1  anonymous035B_anonymous225D -0.026720\n",
       "2  anonymous029B_anonymous288D  0.165620\n",
       "3  anonymous001B_anonymous204D  0.114384\n",
       "4  anonymous075B_anonymous244D  0.070589"
      ]
     },
     "metadata": {},
     "output_type": "display_data"
    }
   ],
   "source": [
    "# submission must match the 'sample_submission.csv' format exactly\n",
    "my_submission = test_pairs[[\"id\", \"score\"]]\n",
    "my_submission.to_csv(\"my_submission.csv\", index=False)\n",
    "display(my_submission.head())"
   ]
  },
  {
   "attachments": {},
   "cell_type": "markdown",
   "metadata": {
    "id": "S3dgbBwUfpzU"
   },
   "source": [
    "You can now download `my_submission.csv` and submit it to the challenge!"
   ]
  }
 ],
 "metadata": {
  "accelerator": "GPU",
  "colab": {
   "provenance": []
  },
  "gpuClass": "standard",
  "kernelspec": {
   "display_name": "Python 3 (ipykernel)",
   "language": "python",
   "name": "python3"
  },
  "language_info": {
   "codemirror_mode": {
    "name": "ipython",
    "version": 3
   },
   "file_extension": ".py",
   "mimetype": "text/x-python",
   "name": "python",
   "nbconvert_exporter": "python",
   "pygments_lexer": "ipython3",
   "version": "3.10.11"
  }
 },
 "nbformat": 4,
 "nbformat_minor": 1
}
