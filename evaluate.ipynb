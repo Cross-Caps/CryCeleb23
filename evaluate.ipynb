{
 "cells": [
  {
   "cell_type": "markdown",
   "metadata": {
    "id": "7gd-5ANmkKSu"
   },
   "source": [
    "# Evaluation notebook for [CryCeleb2023 challenge](https://huggingface.co/spaces/competitions/CryCeleb2023)\n",
    "\n",
    "## This notebook does the following:\n",
    "- Download the Cryceleb data from Hugging Face.\n",
    "- Download a pretrained SpeechBrain model from Hugging Face.\n",
    "- Compute embeddings.\n",
    "- Compute similarity scores for pairs of embeddings.\n",
    "- Compute the equal error rate of the scores and visualize results.\n",
    "- Produces my_solution.csv that can be uploaded to the competition platform."
   ]
  },
  {
   "cell_type": "markdown",
   "metadata": {
    "id": "fwKCGXetl_Jd"
   },
   "source": [
    "### Imports"
   ]
  },
  {
   "cell_type": "code",
   "execution_count": null,
   "metadata": {},
   "outputs": [],
   "source": [
    "# For Colab - uncomment and run the following to set up the repo\n",
    "# !pip install speechbrain\n",
    "# !git clone https://github.com/Ubenwa/cryceleb2023.git\n",
    "# %cd cryceleb2023"
   ]
  },
  {
   "cell_type": "code",
   "execution_count": null,
   "metadata": {
    "id": "ZZqSCpv_lUIa"
   },
   "outputs": [],
   "source": [
    "%%capture\n",
    "\n",
    "import matplotlib.pyplot as plt\n",
    "import numpy as np\n",
    "import pandas as pd\n",
    "import seaborn as sns\n",
    "import speechbrain as sb\n",
    "import torch\n",
    "from huggingface_hub import hf_hub_download\n",
    "from IPython.display import display\n",
    "from speechbrain.dataio.dataio import read_audio\n",
    "from speechbrain.pretrained import EncoderClassifier, SpeakerRecognition\n",
    "from speechbrain.utils.metric_stats import EER\n",
    "from tqdm.notebook import tqdm\n",
    "\n",
    "from crybrain import download_data\n",
    "\n",
    "dataset_path = \"data\""
   ]
  },
  {
   "cell_type": "markdown",
   "metadata": {
    "id": "AUNVrz16mNZH"
   },
   "source": [
    "### Data"
   ]
  },
  {
   "cell_type": "code",
   "execution_count": null,
   "metadata": {},
   "outputs": [],
   "source": [
    "from huggingface_hub import notebook_login\n",
    "\n",
    "notebook_login()"
   ]
  },
  {
   "cell_type": "code",
   "execution_count": null,
   "metadata": {
    "colab": {
     "base_uri": "https://localhost:8080/",
     "height": 177,
     "referenced_widgets": [
      "48a9413b4a9f44ab9b133f75757ba1b3",
      "bde64b1a9a2a44a68ce376638850faf1",
      "c688ebb7d042446db9688c0a8c5686cb",
      "31f9d67b4f5d41fc8761bc1f7bcc3a88",
      "6faf6b7594064b78b38122e45c69229c",
      "8a390c2647714f06982ede802e708857",
      "87c274b22fc7460188a51d8d5689ec04",
      "69e01654e825416783101f44f800ba37",
      "85c75c5f031844f58f61c2217819201c",
      "56ac688d29664728a5921d5b6132da75",
      "aae703425f7245a8a54dd95870e98345",
      "d25726ee8d404d30b151aa04950aec53",
      "ee675ef5bdcc4b01b5f5d63737ef4e4a",
      "01f99069fb0648639f57a2fcc1625302",
      "688abf05d24644e385cee5294d63eaff",
      "adf5285fdc5e47cd8bd89acec431c519",
      "afe24b4ae3df482f90633ffd2600254c",
      "a445688a0d254b0abb42951544c5de29",
      "4cae57f7658c46168272be6ab8ed6361",
      "e3a7af1279464532b725177f0a0d50c2",
      "493f3c83c220430ab95687b724a7ce36",
      "3ccf5f36399f4dd9b5a1b39034147011",
      "92a1d2e7cfba4139bd30f33c9952ad0b",
      "446adc6e4b49402295141543a06d7022",
      "0e96610caf1747dc99d14ba7d4717d1e",
      "608197a5662e440db4309350a2f19148",
      "47b28b83da3048a0880294d898ed25a8",
      "38a29275901949afae2e4bf373463c19",
      "2976157384ca4771ac36d66d54f4eebc",
      "9c1a48b5361d4b4bb2a33fe44f59b4a9",
      "bb807e9c793d415f8e0992856b2bda96",
      "7b4a03db3e0d4bd5906e20333ce5358f",
      "3efc045306d14584a02a06cfa49f8d69",
      "3a07bc2787cc43a598d0a2b189e5fc36",
      "cb23d7bbcb014798964fde1f90b76496",
      "0c76014da6b44182a2c3561c473e1656",
      "d49d39ccb6b0439497375a9f37e961cb",
      "2885010222bc494e903b0ef93b8d27b2",
      "052b0a77e57a45d0be587a7564e18dd9",
      "42eadb95424e44399a1916768ae31002",
      "1785f38eb7494ba3a28870cc4792363f",
      "036f560d958f4e4a8d2367e4a1f5ab2f",
      "4a271e56fb17495c8efdf47c0f5b1582",
      "a227c472debb467bb952ef172afbda37",
      "74575ce9235f449c8cdab90ff650ad0e",
      "a8e3cdce46304042882a1121d075668e",
      "3ddf4f47a405499e93634ae846855d48",
      "351363b8f8d040b19745f5201db56809",
      "6ce593721e034de682cef0645cfefc31",
      "5d55ed42d44b417fa9aa8ea2bc5128f5",
      "39e121daa40b43b280d7bae156847071",
      "afb60ef0d33a4a7dba0396602d1c014e",
      "36722281b9f243fab567adffc6c6dc3b",
      "d74ccc6ec2f24ef291d98cadab769bcc",
      "afd5310507ac4800b254af99d9b89ed0"
     ]
    },
    "id": "zqXn1mT8nRwp",
    "outputId": "59280321-e953-44c9-9658-ebc32f9a7941"
   },
   "outputs": [],
   "source": [
    "download_data(dataset_path)"
   ]
  },
  {
   "cell_type": "code",
   "execution_count": null,
   "metadata": {
    "colab": {
     "base_uri": "https://localhost:8080/",
     "height": 871
    },
    "id": "CenUmoY_mMqw",
    "outputId": "1bb9f7b1-fae0-4f58-8a6a-c50c8780379a"
   },
   "outputs": [],
   "source": [
    "# read metadata\n",
    "metadata = pd.read_csv(\n",
    "    f\"{dataset_path}/metadata.csv\", dtype={\"baby_id\": str, \"chronological_index\": str}\n",
    ")\n",
    "dev_metadata = metadata.loc[metadata[\"split\"] == \"dev\"].copy()\n",
    "# read sample submission\n",
    "sample_submission = pd.read_csv(\n",
    "    f\"{dataset_path}/sample_submission.csv\"\n",
    ")  # scores are unfiorm random\n",
    "# read verification pairs\n",
    "dev_pairs = pd.read_csv(\n",
    "    f\"{dataset_path}/dev_pairs.csv\", dtype={\"baby_id_B\": str, \"baby_id_D\": str}\n",
    ")\n",
    "test_pairs = pd.read_csv(f\"{dataset_path}/test_pairs.csv\")\n",
    "\n",
    "display(\n",
    "    metadata.head()\n",
    "    .style.set_caption(\"metadata\")\n",
    "    .set_table_styles([{\"selector\": \"caption\", \"props\": [(\"font-size\", \"20px\")]}])\n",
    ")\n",
    "display(\n",
    "    dev_pairs.head()\n",
    "    .style.set_caption(\"dev_pairs\")\n",
    "    .set_table_styles([{\"selector\": \"caption\", \"props\": [(\"font-size\", \"20px\")]}])\n",
    ")\n",
    "display(\n",
    "    test_pairs.head()\n",
    "    .style.set_caption(\"test_pairs\")\n",
    "    .set_table_styles([{\"selector\": \"caption\", \"props\": [(\"font-size\", \"20px\")]}])\n",
    ")\n",
    "display(\n",
    "    sample_submission.head()\n",
    "    .style.set_caption(\"sample_submission\")\n",
    "    .set_table_styles([{\"selector\": \"caption\", \"props\": [(\"font-size\", \"20px\")]}])\n",
    ")"
   ]
  },
  {
   "cell_type": "markdown",
   "metadata": {
    "id": "i7qn0lFdmOlF"
   },
   "source": [
    "### Initialize encoder"
   ]
  },
  {
   "cell_type": "markdown",
   "metadata": {
    "id": "Rtgd7qlfmUWC"
   },
   "source": [
    "One way to verify if both pairs come from the same baby is to concatenate all the segments for each pair, compute the embedding of the concatenated cry, and compute the cosine similarity between the embeddings.\n",
    "\n",
    "Let's load the model"
   ]
  },
  {
   "cell_type": "code",
   "execution_count": null,
   "metadata": {
    "colab": {
     "base_uri": "https://localhost:8080/",
     "height": 81,
     "referenced_widgets": [
      "a5a6c8050ce444fe9e5e3835af2c89f7",
      "ffe1c871271b4eeb8566f8c3e9535679",
      "fe22550070ad45c4a23564099beafadd",
      "8657df05011a4f5f8cf0492aed78e819",
      "7d7bf74077214e65b3727346d8e4485b",
      "d31bd375beac4b308abc9751e88d6762",
      "7359bf51f90846999bc7e6fedf1ab4f1",
      "635dd9fb9e844c99b60812acd3b8cefc",
      "9bcebcb7cb224ff9ba92e3693adcf04e",
      "4a8dffe277524f48aa5e2cdb76d22926",
      "dab9e9c96c344b78abf24353bbbeebb9",
      "785545f1963f4f6d849fb562f31a3c0d",
      "2c7f0724170f4e0d9d74677aad6e18a3",
      "f876ee90477b41e3972374a5f874647c",
      "da7ba01d01c84602a5066475ddba8195",
      "cd5315c7c4ed475f837285339fca2fcc",
      "0adc32cfd65441f4becabf682041611f",
      "d9c373060ef242cba7b669582645ef69",
      "732fe933fcb14a1f8b32988dc5ab41a3",
      "2b4b55f6867443e0b10ae8caccef9fc2",
      "4c950b1378d34aeea6d87f53f6e5484e",
      "9760ab6f43f94981986f37a79cf0bdd7"
     ]
    },
    "id": "CsE0Z6JCmSBv",
    "outputId": "6c22b5b6-a996-4312-b33e-78e89de6cc33"
   },
   "outputs": [],
   "source": [
    "!rm -rf spkrec-ecapa-voxceleb\n",
    "encoder = SpeakerRecognition.from_hparams(\n",
    "    source=\"speechbrain/spkrec-ecapa-voxceleb\",\n",
    "    savedir=\"spkrec-ecapa-voxceleb\",\n",
    "    run_opts={\"device\": \"cuda\"},  # comment out if no GPU available\n",
    ")"
   ]
  },
  {
   "cell_type": "code",
   "execution_count": null,
   "metadata": {},
   "outputs": [],
   "source": [
    "# you can also plug in your encoder weights if you fine-tuned this model locally\n",
    "# !rm spkrec-ecapa-voxceleb/embedding_model.ckpt\n",
    "# !cp experiments/ecapa_voxceleb_ft_basic/ckpts/CKPT+epoch-4_valacc-0.57/embedding_model.ckpt spkrec-ecapa-voxceleb\n",
    "\n",
    "# encoder = SpeakerRecognition.from_hparams(\n",
    "#    source=\"speechbrain/spkrec-ecapa-voxceleb\",\n",
    "#    savedir=\"spkrec-ecapa-voxceleb\",\n",
    "#    run_opts={\"device\": \"cuda\"},  # comment out if no GPU available\n",
    "# )"
   ]
  },
  {
   "cell_type": "markdown",
   "metadata": {
    "id": "vUP0tjNImYT4"
   },
   "source": [
    "#### Compute Encodings"
   ]
  },
  {
   "cell_type": "markdown",
   "metadata": {
    "id": "mFTLJ74s6I3_"
   },
   "source": [
    "Change runtime type to GPU if using Colab"
   ]
  },
  {
   "cell_type": "code",
   "execution_count": null,
   "metadata": {
    "colab": {
     "base_uri": "https://localhost:8080/",
     "height": 159,
     "referenced_widgets": [
      "780d053589614f1981ce9c3bc1bf2633",
      "d7869f0445404dfa98a36832af202d75",
      "36248ef425d84a31a5f2b4bf0935d1ce",
      "dcf4695b9f694a55a9fa0691f7c0b236",
      "bbb7c274e05c4feba27a1968b0566621",
      "790b64fac2d84d10b2fb6a1d1ba30b7f",
      "9d7d86758d46432085a7f1eeef6ee589",
      "75ef1cc7d24b47fe8dbd1b3e9b8c974d",
      "e9b6cee88af34f968c4d09d232b62120",
      "366a1031361647ec8aad6b599a2746a1",
      "a1ff4f5afe694b4b86e1aa80fa0169e5"
     ]
    },
    "id": "rgMZ8rrBmWc3",
    "outputId": "7894ce23-2972-4554-ccd1-d84f52230bdd"
   },
   "outputs": [],
   "source": [
    "%%time\n",
    "# read the segments\n",
    "dev_metadata[\"cry\"] = dev_metadata.apply(\n",
    "    lambda row: read_audio(f'{dataset_path}/{row[\"file_name\"]}').numpy(), axis=1\n",
    ")\n",
    "# concatenate all segments for each (baby_id, period) group\n",
    "cry_dict = pd.DataFrame(\n",
    "    dev_metadata.groupby([\"baby_id\", \"period\"])[\"cry\"].agg(lambda x: np.concatenate(x.values)),\n",
    "    columns=[\"cry\"],\n",
    ").to_dict(orient=\"index\")\n",
    "# encode the concatenated cries\n",
    "for (baby_id, period), d in tqdm(cry_dict.items()):\n",
    "    d[\"cry_encoded\"] = encoder.encode_batch(torch.tensor(d[\"cry\"]), normalize=False)"
   ]
  },
  {
   "cell_type": "markdown",
   "metadata": {
    "id": "PF4Sa3BnmcLA"
   },
   "source": [
    "#### Compute Similarity Between Encodings"
   ]
  },
  {
   "cell_type": "code",
   "execution_count": null,
   "metadata": {
    "colab": {
     "base_uri": "https://localhost:8080/",
     "height": 206
    },
    "id": "lgaScJgImcaO",
    "outputId": "691c5120-65d9-4eae-8d4f-c8d79a502254"
   },
   "outputs": [],
   "source": [
    "def compute_cosine_similarity_score(row, cry_dict):\n",
    "    cos = torch.nn.CosineSimilarity(dim=-1)\n",
    "    similarity_score = cos(\n",
    "        cry_dict[(row[\"baby_id_B\"], \"B\")][\"cry_encoded\"],\n",
    "        cry_dict[(row[\"baby_id_D\"], \"D\")][\"cry_encoded\"],\n",
    "    )\n",
    "    return similarity_score.item()\n",
    "\n",
    "\n",
    "dev_pairs[\"score\"] = dev_pairs.apply(\n",
    "    lambda row: compute_cosine_similarity_score(row=row, cry_dict=cry_dict), axis=1\n",
    ")\n",
    "display(dev_pairs.head())"
   ]
  },
  {
   "cell_type": "code",
   "execution_count": null,
   "metadata": {
    "colab": {
     "base_uri": "https://localhost:8080/",
     "height": 472
    },
    "id": "3tBfFZ1OmeaG",
    "outputId": "9eedd68d-69f2-44da-d156-6db7acce7e4d"
   },
   "outputs": [],
   "source": [
    "def compute_eer_and_plot_verification_scores(pairs_df):\n",
    "    \"\"\"pairs_df must have 'score' and 'label' columns\"\"\"\n",
    "    positive_scores = pairs_df.loc[pairs_df[\"label\"] == 1][\"score\"].values\n",
    "    negative_scores = pairs_df.loc[pairs_df[\"label\"] == 0][\"score\"].values\n",
    "    eer, threshold = EER(torch.tensor(positive_scores), torch.tensor(negative_scores))\n",
    "    ax = sns.histplot(pairs_df, x=\"score\", hue=\"label\", stat=\"percent\", common_norm=False)\n",
    "    ax.set_title(f\"EER={round(eer, 4)} - Thresh={round(threshold, 4)}\")\n",
    "    plt.axvline(x=[threshold], color=\"red\", ls=\"--\")\n",
    "    return eer, threshold\n",
    "\n",
    "\n",
    "eer, threshold = compute_eer_and_plot_verification_scores(pairs_df=dev_pairs)"
   ]
  },
  {
   "cell_type": "markdown",
   "metadata": {
    "id": "LEjkMjYN17rf"
   },
   "source": [
    "The above plot displays the histogram of scores for +ive (same baby) and -ive (different baby) dev_pairs.\\\n",
    "A perfect verifier would attribute a higher score to all +ive pairs than any -ive pair.\\\n",
    "Your task is to come up with a scoring system which maximizes the separation between the two distributions, as measured by the EER.\\\n",
    "You can change the encoder module, the aggregation of cry segments, the similarity metric, or come up with a completely different process! \\\n",
    "You will be evaluated on the test_pairs.csv, for which ground truth labels are not provided.\n",
    "\n",
    "\n"
   ]
  },
  {
   "cell_type": "markdown",
   "metadata": {
    "id": "yINubTKWImh1"
   },
   "source": [
    "Score the test_pairs and submit:\n",
    "\n"
   ]
  },
  {
   "cell_type": "code",
   "execution_count": null,
   "metadata": {
    "colab": {
     "base_uri": "https://localhost:8080/",
     "height": 274,
     "referenced_widgets": [
      "fe70b8c96fdc4f5695438719d0a538f0",
      "60d9353fa67d47b08d6f79fe9edf14ff",
      "6d6f9ae639ea4b39943fa5abc84f2aaf",
      "10fb5219f51c455bb1039fe19513175d",
      "fe030cd60b6a49f9a5e22c53df2c1fbb",
      "7203a181918148d1a5e0fadd8d33344d",
      "751cbbff056f476aba01b860f14a1b52",
      "39c3334153a74fb8b9c470e55dac6e4c",
      "c4077ea694104e908743bd647fb228b7",
      "31f214f5206f4939a9e7eafff0fdb63c",
      "e67f032a44a1490e9eefa81886a86705"
     ]
    },
    "id": "q7LrpPFVIGir",
    "outputId": "43ce30ba-debd-49a0-f0e8-d6b82c7653b7"
   },
   "outputs": [],
   "source": [
    "%%time\n",
    "test_metadata = metadata.loc[metadata[\"split\"] == \"test\"].copy()\n",
    "# read the segments\n",
    "test_metadata[\"cry\"] = test_metadata.apply(\n",
    "    lambda row: read_audio(f'{dataset_path}/{row[\"file_name\"]}').numpy(), axis=1\n",
    ")\n",
    "# concatenate all segments for each (baby_id, period) group\n",
    "cry_dict_test = pd.DataFrame(\n",
    "    test_metadata.groupby([\"baby_id\", \"period\"])[\"cry\"].agg(lambda x: np.concatenate(x.values)),\n",
    "    columns=[\"cry\"],\n",
    ").to_dict(orient=\"index\")\n",
    "# encode the concatenated cries\n",
    "for (baby_id, period), d in tqdm(cry_dict_test.items()):\n",
    "    d[\"cry_encoded\"] = encoder.encode_batch(torch.tensor(d[\"cry\"]), normalize=False)\n",
    "\n",
    "# compute cosine similarity between all pairs\n",
    "test_pairs[\"score\"] = test_pairs.apply(\n",
    "    lambda row: compute_cosine_similarity_score(row=row, cry_dict=cry_dict_test), axis=1\n",
    ")\n",
    "display(test_pairs.head())"
   ]
  },
  {
   "cell_type": "code",
   "execution_count": null,
   "metadata": {
    "colab": {
     "base_uri": "https://localhost:8080/",
     "height": 206
    },
    "id": "4ZYkMxOrKRQ3",
    "outputId": "c58ed78b-1295-4209-c474-384e421cc779"
   },
   "outputs": [],
   "source": [
    "# submission must match the 'sample_submission.csv' format exactly\n",
    "my_submission = test_pairs[[\"id\", \"score\"]]\n",
    "my_submission.to_csv(\"my_submission.csv\", index=False)\n",
    "display(my_submission.head())"
   ]
  },
  {
   "cell_type": "markdown",
   "metadata": {
    "id": "S3dgbBwUfpzU"
   },
   "source": [
    "You can now download `my_submission.csv` and submit it to the challenge!"
   ]
  }
 ],
 "metadata": {
  "accelerator": "GPU",
  "colab": {
   "provenance": []
  },
  "gpuClass": "standard",
  "kernelspec": {
   "display_name": "Python 3 (ipykernel)",
   "language": "python",
   "name": "python3"
  },
  "language_info": {
   "codemirror_mode": {
    "name": "ipython",
    "version": 3
   },
   "file_extension": ".py",
   "mimetype": "text/x-python",
   "name": "python",
   "nbconvert_exporter": "python",
   "pygments_lexer": "ipython3",
   "version": "3.8.16"
  }
 },
 "nbformat": 4,
 "nbformat_minor": 1
}
