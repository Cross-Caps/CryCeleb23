{
 "cells": [
  {
   "attachments": {},
   "cell_type": "markdown",
   "metadata": {
    "id": "fvP3aM0oMKvT"
   },
   "source": [
    "# Fine-tuning ECAPA-TDNN on  [CryCeleb2023](https://huggingface.co/spaces/competitions/CryCeleb2023) using [SpeechBrain](https://speechbrain.readthedocs.io)\n",
    "\n",
    "This notebook should help you get started training your own models for CryCeleb2023 challenge.\n",
    "\n",
    "Note that it is provides basic example for simplicity and speed.\n",
    "\n",
    "Author: David Budaghyan (Ubenwa)\n"
   ]
  },
  {
   "attachments": {},
   "cell_type": "markdown",
   "metadata": {
    "id": "xLoVtmTDGVby"
   },
   "source": [
    "### Imports"
   ]
  },
  {
   "cell_type": "code",
   "execution_count": null,
   "metadata": {},
   "outputs": [],
   "source": [
    "# For Colab - uncomment and run the following to set up the repo\n",
    "# !pip install speechbrain\n",
    "# !git clone https://github.com/Ubenwa/cryceleb2023.git\n",
    "# %cd cryceleb2023"
   ]
  },
  {
   "cell_type": "code",
   "execution_count": 1,
   "metadata": {
    "executionInfo": {
     "elapsed": 4595,
     "status": "ok",
     "timestamp": 1683904816148,
     "user": {
      "displayName": "David Budaghyan",
      "userId": "04476631309743002593"
     },
     "user_tz": 240
    },
    "id": "5k7MiTJsK2Ba"
   },
   "outputs": [],
   "source": [
    "%%capture\n",
    "%load_ext autoreload\n",
    "%autoreload 2\n",
    "\n",
    "import pathlib\n",
    "import random\n",
    "\n",
    "import numpy as np\n",
    "import pandas as pd\n",
    "import seaborn as sns\n",
    "import speechbrain as sb\n",
    "import torch\n",
    "from huggingface_hub import hf_hub_download\n",
    "from hyperpyyaml import load_hyperpyyaml\n",
    "from IPython.display import display\n",
    "from speechbrain.dataio.dataio import read_audio, write_audio\n",
    "from speechbrain.dataio.dataset import DynamicItemDataset\n",
    "from speechbrain.dataio.encoder import CategoricalEncoder\n",
    "from speechbrain.lobes.augment import TimeDomainSpecAugment\n",
    "\n",
    "from crybrain import CryBrain, download_data\n",
    "\n",
    "dataset_path = \"data\""
   ]
  },
  {
   "attachments": {},
   "cell_type": "markdown",
   "metadata": {
    "id": "oBhuztrjHQX8"
   },
   "source": [
    "### Download data\n",
    "\n",
    "You need to log in to HuggingFace to be able to download the dataset"
   ]
  },
  {
   "cell_type": "code",
   "execution_count": 6,
   "metadata": {
    "executionInfo": {
     "elapsed": 72,
     "status": "ok",
     "timestamp": 1683904816150,
     "user": {
      "displayName": "David Budaghyan",
      "userId": "04476631309743002593"
     },
     "user_tz": 240
    },
    "id": "Du5UrdEgKx7a"
   },
   "outputs": [
    {
     "data": {
      "application/vnd.jupyter.widget-view+json": {
       "model_id": "bae7d2a9fdb64c449579aef613ec6d18",
       "version_major": 2,
       "version_minor": 0
      },
      "text/plain": [
       "VBox(children=(HTML(value='<center> <img\\nsrc=https://huggingface.co/front/assets/huggingface_logo-noborder.sv…"
      ]
     },
     "metadata": {},
     "output_type": "display_data"
    }
   ],
   "source": [
    "from huggingface_hub import notebook_login\n",
    "\n",
    "notebook_login()"
   ]
  },
  {
   "cell_type": "code",
   "execution_count": null,
   "metadata": {},
   "outputs": [],
   "source": [
    "download_data(dataset_path)"
   ]
  },
  {
   "cell_type": "code",
   "execution_count": 2,
   "metadata": {
    "colab": {
     "base_uri": "https://localhost:8080/",
     "height": 513
    },
    "executionInfo": {
     "elapsed": 73,
     "status": "ok",
     "timestamp": 1683904900224,
     "user": {
      "displayName": "David Budaghyan",
      "userId": "04476631309743002593"
     },
     "user_tz": 240
    },
    "id": "JrT1EvuiLjlr",
    "outputId": "dbbd3292-ed66-4d58-c10e-299d1bb4b453"
   },
   "outputs": [
    {
     "data": {
      "text/html": [
       "<style type=\"text/css\">\n",
       "#T_ff4ee caption {\n",
       "  font-size: 20px;\n",
       "}\n",
       "</style>\n",
       "<table id=\"T_ff4ee\">\n",
       "  <caption>train_metadata</caption>\n",
       "  <thead>\n",
       "    <tr>\n",
       "      <th class=\"blank level0\" >&nbsp;</th>\n",
       "      <th id=\"T_ff4ee_level0_col0\" class=\"col_heading level0 col0\" >baby_id</th>\n",
       "      <th id=\"T_ff4ee_level0_col1\" class=\"col_heading level0 col1\" >period</th>\n",
       "      <th id=\"T_ff4ee_level0_col2\" class=\"col_heading level0 col2\" >duration</th>\n",
       "      <th id=\"T_ff4ee_level0_col3\" class=\"col_heading level0 col3\" >split</th>\n",
       "      <th id=\"T_ff4ee_level0_col4\" class=\"col_heading level0 col4\" >chronological_index</th>\n",
       "      <th id=\"T_ff4ee_level0_col5\" class=\"col_heading level0 col5\" >file_name</th>\n",
       "      <th id=\"T_ff4ee_level0_col6\" class=\"col_heading level0 col6\" >file_id</th>\n",
       "    </tr>\n",
       "  </thead>\n",
       "  <tbody>\n",
       "    <tr>\n",
       "      <th id=\"T_ff4ee_level0_row0\" class=\"row_heading level0 row0\" >0</th>\n",
       "      <td id=\"T_ff4ee_row0_col0\" class=\"data row0 col0\" >0694</td>\n",
       "      <td id=\"T_ff4ee_row0_col1\" class=\"data row0 col1\" >B</td>\n",
       "      <td id=\"T_ff4ee_row0_col2\" class=\"data row0 col2\" >1.320000</td>\n",
       "      <td id=\"T_ff4ee_row0_col3\" class=\"data row0 col3\" >dev</td>\n",
       "      <td id=\"T_ff4ee_row0_col4\" class=\"data row0 col4\" >000</td>\n",
       "      <td id=\"T_ff4ee_row0_col5\" class=\"data row0 col5\" >audio/dev/0694/B/0694_B_000.wav</td>\n",
       "      <td id=\"T_ff4ee_row0_col6\" class=\"data row0 col6\" >0694_B_000</td>\n",
       "    </tr>\n",
       "    <tr>\n",
       "      <th id=\"T_ff4ee_level0_row1\" class=\"row_heading level0 row1\" >1</th>\n",
       "      <td id=\"T_ff4ee_row1_col0\" class=\"data row1 col0\" >0694</td>\n",
       "      <td id=\"T_ff4ee_row1_col1\" class=\"data row1 col1\" >B</td>\n",
       "      <td id=\"T_ff4ee_row1_col2\" class=\"data row1 col2\" >0.940000</td>\n",
       "      <td id=\"T_ff4ee_row1_col3\" class=\"data row1 col3\" >dev</td>\n",
       "      <td id=\"T_ff4ee_row1_col4\" class=\"data row1 col4\" >001</td>\n",
       "      <td id=\"T_ff4ee_row1_col5\" class=\"data row1 col5\" >audio/dev/0694/B/0694_B_001.wav</td>\n",
       "      <td id=\"T_ff4ee_row1_col6\" class=\"data row1 col6\" >0694_B_001</td>\n",
       "    </tr>\n",
       "    <tr>\n",
       "      <th id=\"T_ff4ee_level0_row2\" class=\"row_heading level0 row2\" >2</th>\n",
       "      <td id=\"T_ff4ee_row2_col0\" class=\"data row2 col0\" >0694</td>\n",
       "      <td id=\"T_ff4ee_row2_col1\" class=\"data row2 col1\" >B</td>\n",
       "      <td id=\"T_ff4ee_row2_col2\" class=\"data row2 col2\" >0.880000</td>\n",
       "      <td id=\"T_ff4ee_row2_col3\" class=\"data row2 col3\" >dev</td>\n",
       "      <td id=\"T_ff4ee_row2_col4\" class=\"data row2 col4\" >002</td>\n",
       "      <td id=\"T_ff4ee_row2_col5\" class=\"data row2 col5\" >audio/dev/0694/B/0694_B_002.wav</td>\n",
       "      <td id=\"T_ff4ee_row2_col6\" class=\"data row2 col6\" >0694_B_002</td>\n",
       "    </tr>\n",
       "    <tr>\n",
       "      <th id=\"T_ff4ee_level0_row3\" class=\"row_heading level0 row3\" >3</th>\n",
       "      <td id=\"T_ff4ee_row3_col0\" class=\"data row3 col0\" >0694</td>\n",
       "      <td id=\"T_ff4ee_row3_col1\" class=\"data row3 col1\" >B</td>\n",
       "      <td id=\"T_ff4ee_row3_col2\" class=\"data row3 col2\" >1.130000</td>\n",
       "      <td id=\"T_ff4ee_row3_col3\" class=\"data row3 col3\" >dev</td>\n",
       "      <td id=\"T_ff4ee_row3_col4\" class=\"data row3 col4\" >003</td>\n",
       "      <td id=\"T_ff4ee_row3_col5\" class=\"data row3 col5\" >audio/dev/0694/B/0694_B_003.wav</td>\n",
       "      <td id=\"T_ff4ee_row3_col6\" class=\"data row3 col6\" >0694_B_003</td>\n",
       "    </tr>\n",
       "    <tr>\n",
       "      <th id=\"T_ff4ee_level0_row4\" class=\"row_heading level0 row4\" >4</th>\n",
       "      <td id=\"T_ff4ee_row4_col0\" class=\"data row4 col0\" >0694</td>\n",
       "      <td id=\"T_ff4ee_row4_col1\" class=\"data row4 col1\" >B</td>\n",
       "      <td id=\"T_ff4ee_row4_col2\" class=\"data row4 col2\" >1.180000</td>\n",
       "      <td id=\"T_ff4ee_row4_col3\" class=\"data row4 col3\" >dev</td>\n",
       "      <td id=\"T_ff4ee_row4_col4\" class=\"data row4 col4\" >004</td>\n",
       "      <td id=\"T_ff4ee_row4_col5\" class=\"data row4 col5\" >audio/dev/0694/B/0694_B_004.wav</td>\n",
       "      <td id=\"T_ff4ee_row4_col6\" class=\"data row4 col6\" >0694_B_004</td>\n",
       "    </tr>\n",
       "  </tbody>\n",
       "</table>\n"
      ],
      "text/plain": [
       "<pandas.io.formats.style.Styler at 0x7fc72c313d90>"
      ]
     },
     "metadata": {},
     "output_type": "display_data"
    },
    {
     "data": {
      "text/html": [
       "<div>\n",
       "<style scoped>\n",
       "    .dataframe tbody tr th:only-of-type {\n",
       "        vertical-align: middle;\n",
       "    }\n",
       "\n",
       "    .dataframe tbody tr th {\n",
       "        vertical-align: top;\n",
       "    }\n",
       "\n",
       "    .dataframe thead th {\n",
       "        text-align: right;\n",
       "    }\n",
       "</style>\n",
       "<table border=\"1\" class=\"dataframe\">\n",
       "  <thead>\n",
       "    <tr style=\"text-align: right;\">\n",
       "      <th></th>\n",
       "      <th>duration</th>\n",
       "    </tr>\n",
       "  </thead>\n",
       "  <tbody>\n",
       "    <tr>\n",
       "      <th>count</th>\n",
       "      <td>19804.000000</td>\n",
       "    </tr>\n",
       "    <tr>\n",
       "      <th>mean</th>\n",
       "      <td>0.883710</td>\n",
       "    </tr>\n",
       "    <tr>\n",
       "      <th>std</th>\n",
       "      <td>0.532833</td>\n",
       "    </tr>\n",
       "    <tr>\n",
       "      <th>min</th>\n",
       "      <td>0.080000</td>\n",
       "    </tr>\n",
       "    <tr>\n",
       "      <th>25%</th>\n",
       "      <td>0.580000</td>\n",
       "    </tr>\n",
       "    <tr>\n",
       "      <th>50%</th>\n",
       "      <td>0.770000</td>\n",
       "    </tr>\n",
       "    <tr>\n",
       "      <th>75%</th>\n",
       "      <td>1.050000</td>\n",
       "    </tr>\n",
       "    <tr>\n",
       "      <th>max</th>\n",
       "      <td>10.340000</td>\n",
       "    </tr>\n",
       "  </tbody>\n",
       "</table>\n",
       "</div>"
      ],
      "text/plain": [
       "           duration\n",
       "count  19804.000000\n",
       "mean       0.883710\n",
       "std        0.532833\n",
       "min        0.080000\n",
       "25%        0.580000\n",
       "50%        0.770000\n",
       "75%        1.050000\n",
       "max       10.340000"
      ]
     },
     "metadata": {},
     "output_type": "display_data"
    }
   ],
   "source": [
    "# read metadata\n",
    "metadata = pd.read_csv(\n",
    "    f\"{dataset_path}/metadata.csv\", dtype={\"baby_id\": str, \"chronological_index\": str}\n",
    ")\n",
    "train_metadata = metadata.loc[metadata[\"split\"] != \"test\"].copy()\n",
    "display(\n",
    "    train_metadata.head()\n",
    "    .style.set_caption(\"train_metadata\")\n",
    "    .set_table_styles([{\"selector\": \"caption\", \"props\": [(\"font-size\", \"20px\")]}])\n",
    ")\n",
    "display(train_metadata.describe())"
   ]
  },
  {
   "cell_type": "code",
   "execution_count": 3,
   "metadata": {},
   "outputs": [
    {
     "name": "stdout",
     "output_type": "stream",
     "text": [
      "{'0214', '0782', '0694', '0786', '0404', '0638', '0584', '1012', '0755', '0122', '0501', '0005', '0751', '0207', '0864', '0294', '0076', '0094', '0789', '0611', '0350', '0114', '0583', '0337', '1071', '0372', '0563', '0774', '0203', '0422', '0292', '0614', '1002', '0737', '0133', '0507', '0593', '0806', '0489', '0327'}\n"
     ]
    }
   ],
   "source": [
    "dev_babies = set(train_metadata.loc[train_metadata[\"split\"] == \"dev\", \"baby_id\"])\n",
    "print(dev_babies)"
   ]
  },
  {
   "attachments": {},
   "cell_type": "markdown",
   "metadata": {
    "id": "nX6q3zCxtaQa"
   },
   "source": [
    "### Concatenate cry sounds\n",
    "\n",
    "We are given short cry sounds for each baby. Here we simply concatenate them. "
   ]
  },
  {
   "cell_type": "code",
   "execution_count": 4,
   "metadata": {
    "colab": {
     "base_uri": "https://localhost:8080/",
     "height": 930
    },
    "executionInfo": {
     "elapsed": 24464,
     "status": "ok",
     "timestamp": 1683904924639,
     "user": {
      "displayName": "David Budaghyan",
      "userId": "04476631309743002593"
     },
     "user_tz": 240
    },
    "id": "bUTe9QqwRqE-",
    "outputId": "d4872617-95de-4aa8-db79-bb41fe879408"
   },
   "outputs": [
    {
     "data": {
      "text/html": [
       "<div>\n",
       "<style scoped>\n",
       "    .dataframe tbody tr th:only-of-type {\n",
       "        vertical-align: middle;\n",
       "    }\n",
       "\n",
       "    .dataframe tbody tr th {\n",
       "        vertical-align: top;\n",
       "    }\n",
       "\n",
       "    .dataframe thead th {\n",
       "        text-align: right;\n",
       "    }\n",
       "</style>\n",
       "<table border=\"1\" class=\"dataframe\">\n",
       "  <thead>\n",
       "    <tr style=\"text-align: right;\">\n",
       "      <th></th>\n",
       "      <th>baby_id</th>\n",
       "      <th>period</th>\n",
       "      <th>duration</th>\n",
       "      <th>file_path</th>\n",
       "      <th>train_split</th>\n",
       "    </tr>\n",
       "  </thead>\n",
       "  <tbody>\n",
       "    <tr>\n",
       "      <th>0</th>\n",
       "      <td>0005</td>\n",
       "      <td>B</td>\n",
       "      <td>43.894000</td>\n",
       "      <td>data/concatenated_audio_train/0005_B.wav</td>\n",
       "      <td>dev</td>\n",
       "    </tr>\n",
       "    <tr>\n",
       "      <th>1</th>\n",
       "      <td>0005</td>\n",
       "      <td>D</td>\n",
       "      <td>33.774187</td>\n",
       "      <td>data/concatenated_audio_train/0005_D.wav</td>\n",
       "      <td>dev</td>\n",
       "    </tr>\n",
       "    <tr>\n",
       "      <th>2</th>\n",
       "      <td>0006</td>\n",
       "      <td>B</td>\n",
       "      <td>30.170500</td>\n",
       "      <td>data/concatenated_audio_train/0006_B.wav</td>\n",
       "      <td>train</td>\n",
       "    </tr>\n",
       "    <tr>\n",
       "      <th>3</th>\n",
       "      <td>0007</td>\n",
       "      <td>B</td>\n",
       "      <td>35.722313</td>\n",
       "      <td>data/concatenated_audio_train/0007_B.wav</td>\n",
       "      <td>train</td>\n",
       "    </tr>\n",
       "    <tr>\n",
       "      <th>4</th>\n",
       "      <td>0008</td>\n",
       "      <td>B</td>\n",
       "      <td>55.656375</td>\n",
       "      <td>data/concatenated_audio_train/0008_B.wav</td>\n",
       "      <td>train</td>\n",
       "    </tr>\n",
       "    <tr>\n",
       "      <th>...</th>\n",
       "      <td>...</td>\n",
       "      <td>...</td>\n",
       "      <td>...</td>\n",
       "      <td>...</td>\n",
       "      <td>...</td>\n",
       "    </tr>\n",
       "    <tr>\n",
       "      <th>1009</th>\n",
       "      <td>1076</td>\n",
       "      <td>B</td>\n",
       "      <td>38.263500</td>\n",
       "      <td>data/concatenated_audio_train/1076_B.wav</td>\n",
       "      <td>train</td>\n",
       "    </tr>\n",
       "    <tr>\n",
       "      <th>1010</th>\n",
       "      <td>1076</td>\n",
       "      <td>D</td>\n",
       "      <td>16.064750</td>\n",
       "      <td>data/concatenated_audio_train/1076_D.wav</td>\n",
       "      <td>train</td>\n",
       "    </tr>\n",
       "    <tr>\n",
       "      <th>1011</th>\n",
       "      <td>1078</td>\n",
       "      <td>B</td>\n",
       "      <td>10.075750</td>\n",
       "      <td>data/concatenated_audio_train/1078_B.wav</td>\n",
       "      <td>train</td>\n",
       "    </tr>\n",
       "    <tr>\n",
       "      <th>1012</th>\n",
       "      <td>1078</td>\n",
       "      <td>D</td>\n",
       "      <td>12.114937</td>\n",
       "      <td>data/concatenated_audio_train/1078_D.wav</td>\n",
       "      <td>train</td>\n",
       "    </tr>\n",
       "    <tr>\n",
       "      <th>1013</th>\n",
       "      <td>1079</td>\n",
       "      <td>B</td>\n",
       "      <td>10.738437</td>\n",
       "      <td>data/concatenated_audio_train/1079_B.wav</td>\n",
       "      <td>train</td>\n",
       "    </tr>\n",
       "  </tbody>\n",
       "</table>\n",
       "<p>1014 rows × 5 columns</p>\n",
       "</div>"
      ],
      "text/plain": [
       "     baby_id period   duration                                 file_path   \n",
       "0       0005      B  43.894000  data/concatenated_audio_train/0005_B.wav  \\\n",
       "1       0005      D  33.774187  data/concatenated_audio_train/0005_D.wav   \n",
       "2       0006      B  30.170500  data/concatenated_audio_train/0006_B.wav   \n",
       "3       0007      B  35.722313  data/concatenated_audio_train/0007_B.wav   \n",
       "4       0008      B  55.656375  data/concatenated_audio_train/0008_B.wav   \n",
       "...      ...    ...        ...                                       ...   \n",
       "1009    1076      B  38.263500  data/concatenated_audio_train/1076_B.wav   \n",
       "1010    1076      D  16.064750  data/concatenated_audio_train/1076_D.wav   \n",
       "1011    1078      B  10.075750  data/concatenated_audio_train/1078_B.wav   \n",
       "1012    1078      D  12.114937  data/concatenated_audio_train/1078_D.wav   \n",
       "1013    1079      B  10.738437  data/concatenated_audio_train/1079_B.wav   \n",
       "\n",
       "     train_split  \n",
       "0            dev  \n",
       "1            dev  \n",
       "2          train  \n",
       "3          train  \n",
       "4          train  \n",
       "...          ...  \n",
       "1009       train  \n",
       "1010       train  \n",
       "1011       train  \n",
       "1012       train  \n",
       "1013       train  \n",
       "\n",
       "[1014 rows x 5 columns]"
      ]
     },
     "metadata": {},
     "output_type": "display_data"
    },
    {
     "data": {
      "text/plain": [
       "Text(0.5, 1.0, 'Histogram of Concatenated Cry Sound Lengths')"
      ]
     },
     "execution_count": 4,
     "metadata": {},
     "output_type": "execute_result"
    },
    {
     "data": {
      "image/png": "[encoded data removed]",
      "text/plain": [
       "<Figure size 640x480 with 1 Axes>"
      ]
     },
     "metadata": {},
     "output_type": "display_data"
    }
   ],
   "source": [
    "# read the segments\n",
    "train_metadata[\"cry\"] = train_metadata.apply(\n",
    "    lambda row: read_audio(f'{dataset_path}/{row[\"file_name\"]}').numpy(), axis=1\n",
    ")\n",
    "# concatenate all segments for each (baby_id, period) group\n",
    "manifest_df = pd.DataFrame(\n",
    "    train_metadata.groupby([\"baby_id\", \"period\"])[\"cry\"].agg(lambda x: np.concatenate(x.values)),\n",
    "    columns=[\"cry\"],\n",
    ").reset_index()\n",
    "# all files have 16000 sampling rate\n",
    "manifest_df[\"duration\"] = manifest_df[\"cry\"].apply(len) / 16000\n",
    "pathlib.Path(f\"{dataset_path}/concatenated_audio_train\").mkdir(exist_ok=True)\n",
    "manifest_df[\"file_path\"] = manifest_df.apply(\n",
    "    lambda row: f\"{dataset_path}/concatenated_audio_train/{row['baby_id']}_{row['period']}.wav\",\n",
    "    axis=1,\n",
    ")\n",
    "manifest_df.apply(\n",
    "    lambda row: write_audio(\n",
    "        filepath=f'{row[\"file_path\"]}', audio=torch.tensor(row[\"cry\"]), samplerate=16000\n",
    "    ),\n",
    "    axis=1,\n",
    ")\n",
    "manifest_df = manifest_df.drop(columns=[\"cry\"])\n",
    "manifest_df[\"train_split\"] = manifest_df.apply(lambda row: \"dev\" if row[\"baby_id\"] in dev_babies else \"train\", axis=1)\n",
    "display(manifest_df)\n",
    "ax = sns.histplot(manifest_df, x=\"duration\")\n",
    "ax.set_title(\"Histogram of Concatenated Cry Sound Lengths\")"
   ]
  },
  {
   "attachments": {},
   "cell_type": "markdown",
   "metadata": {},
   "source": [
    "During training, we will extract random cuts of 3-5 seconds from concatenated audio"
   ]
  },
  {
   "cell_type": "code",
   "execution_count": 9,
   "metadata": {
    "executionInfo": {
     "elapsed": 114,
     "status": "ok",
     "timestamp": 1683904924641,
     "user": {
      "displayName": "David Budaghyan",
      "userId": "04476631309743002593"
     },
     "user_tz": 240
    },
    "id": "8fqkEktdRRXf"
   },
   "outputs": [],
   "source": [
    "def create_cut_length_interval(row, cut_length_interval):\n",
    "    \"\"\"cut_length_interval is a tuple indicating the range of lengths we want our chunks to be.\n",
    "    this function computes the valid range of chunk lengths for each audio file\n",
    "    \"\"\"\n",
    "    # the lengths are in seconds, convert them to frames\n",
    "    cut_length_interval = [round(length * 16000) for length in cut_length_interval]\n",
    "    cry_length = round(row[\"duration\"] * 16000)\n",
    "    # make the interval valid for the specific sound file\n",
    "    min_cut_length, max_cut_length = cut_length_interval\n",
    "    # if min_cut_length is greater than length of cry, don't cut\n",
    "    if min_cut_length >= cry_length:\n",
    "        cut_length_interval = (cry_length, cry_length)\n",
    "    # if max_cut_length is greater than length of cry, take a cut of length between min_cut_length and full length of cry\n",
    "    elif max_cut_length >= cry_length:\n",
    "        cut_length_interval = (min_cut_length, cry_length)\n",
    "    return cut_length_interval\n",
    "\n",
    "\n",
    "cut_length_interval = (6, 8)\n",
    "manifest_df[\"cut_length_interval_in_frames\"] = manifest_df.apply(\n",
    "    lambda row: create_cut_length_interval(row, cut_length_interval=cut_length_interval), axis=1\n",
    ")"
   ]
  },
  {
   "attachments": {},
   "cell_type": "markdown",
   "metadata": {
    "id": "VS6R0uA2tpAJ"
   },
   "source": [
    "### Split into train and val\n",
    "\n",
    "For training a classfier, we can split the data into train/val in any way, as long as val does not contain new classes\n",
    "\n",
    "One way to split is to split by period: train on birth recordings and validate on discharge"
   ]
  },
  {
   "cell_type": "code",
   "execution_count": 10,
   "metadata": {
    "colab": {
     "base_uri": "https://localhost:8080/",
     "height": 493
    },
    "executionInfo": {
     "elapsed": 115,
     "status": "ok",
     "timestamp": 1683904924645,
     "user": {
      "displayName": "David Budaghyan",
      "userId": "04476631309743002593"
     },
     "user_tz": 240
    },
    "id": "KceQZp_pga34",
    "outputId": "a1eafd79-d192-4f7f-f447-36cb05b33d87"
   },
   "outputs": [
    {
     "data": {
      "text/html": [
       "<div>\n",
       "<style scoped>\n",
       "    .dataframe tbody tr th:only-of-type {\n",
       "        vertical-align: middle;\n",
       "    }\n",
       "\n",
       "    .dataframe tbody tr th {\n",
       "        vertical-align: top;\n",
       "    }\n",
       "\n",
       "    .dataframe thead th {\n",
       "        text-align: right;\n",
       "    }\n",
       "</style>\n",
       "<table border=\"1\" class=\"dataframe\">\n",
       "  <thead>\n",
       "    <tr style=\"text-align: right;\">\n",
       "      <th></th>\n",
       "      <th>baby_id</th>\n",
       "      <th>period</th>\n",
       "      <th>duration</th>\n",
       "      <th>file_path</th>\n",
       "      <th>train_split</th>\n",
       "      <th>cut_length_interval_in_frames</th>\n",
       "      <th>split</th>\n",
       "      <th>id</th>\n",
       "    </tr>\n",
       "  </thead>\n",
       "  <tbody>\n",
       "    <tr>\n",
       "      <th>0</th>\n",
       "      <td>0005</td>\n",
       "      <td>B</td>\n",
       "      <td>43.894000</td>\n",
       "      <td>data/concatenated_audio_train/0005_B.wav</td>\n",
       "      <td>dev</td>\n",
       "      <td>[96000, 128000]</td>\n",
       "      <td>train</td>\n",
       "      <td>0005_B</td>\n",
       "    </tr>\n",
       "    <tr>\n",
       "      <th>1</th>\n",
       "      <td>0005</td>\n",
       "      <td>D</td>\n",
       "      <td>33.774187</td>\n",
       "      <td>data/concatenated_audio_train/0005_D.wav</td>\n",
       "      <td>dev</td>\n",
       "      <td>[96000, 128000]</td>\n",
       "      <td>val</td>\n",
       "      <td>0005_D</td>\n",
       "    </tr>\n",
       "    <tr>\n",
       "      <th>2</th>\n",
       "      <td>0006</td>\n",
       "      <td>B</td>\n",
       "      <td>30.170500</td>\n",
       "      <td>data/concatenated_audio_train/0006_B.wav</td>\n",
       "      <td>train</td>\n",
       "      <td>[96000, 128000]</td>\n",
       "      <td>train</td>\n",
       "      <td>0006_B</td>\n",
       "    </tr>\n",
       "    <tr>\n",
       "      <th>3</th>\n",
       "      <td>0007</td>\n",
       "      <td>B</td>\n",
       "      <td>35.722313</td>\n",
       "      <td>data/concatenated_audio_train/0007_B.wav</td>\n",
       "      <td>train</td>\n",
       "      <td>[96000, 128000]</td>\n",
       "      <td>train</td>\n",
       "      <td>0007_B</td>\n",
       "    </tr>\n",
       "    <tr>\n",
       "      <th>4</th>\n",
       "      <td>0008</td>\n",
       "      <td>B</td>\n",
       "      <td>55.656375</td>\n",
       "      <td>data/concatenated_audio_train/0008_B.wav</td>\n",
       "      <td>train</td>\n",
       "      <td>[96000, 128000]</td>\n",
       "      <td>train</td>\n",
       "      <td>0008_B</td>\n",
       "    </tr>\n",
       "    <tr>\n",
       "      <th>...</th>\n",
       "      <td>...</td>\n",
       "      <td>...</td>\n",
       "      <td>...</td>\n",
       "      <td>...</td>\n",
       "      <td>...</td>\n",
       "      <td>...</td>\n",
       "      <td>...</td>\n",
       "      <td>...</td>\n",
       "    </tr>\n",
       "    <tr>\n",
       "      <th>1009</th>\n",
       "      <td>1076</td>\n",
       "      <td>B</td>\n",
       "      <td>38.263500</td>\n",
       "      <td>data/concatenated_audio_train/1076_B.wav</td>\n",
       "      <td>train</td>\n",
       "      <td>[96000, 128000]</td>\n",
       "      <td>train</td>\n",
       "      <td>1076_B</td>\n",
       "    </tr>\n",
       "    <tr>\n",
       "      <th>1010</th>\n",
       "      <td>1076</td>\n",
       "      <td>D</td>\n",
       "      <td>16.064750</td>\n",
       "      <td>data/concatenated_audio_train/1076_D.wav</td>\n",
       "      <td>train</td>\n",
       "      <td>[96000, 128000]</td>\n",
       "      <td>train</td>\n",
       "      <td>1076_D</td>\n",
       "    </tr>\n",
       "    <tr>\n",
       "      <th>1011</th>\n",
       "      <td>1078</td>\n",
       "      <td>B</td>\n",
       "      <td>10.075750</td>\n",
       "      <td>data/concatenated_audio_train/1078_B.wav</td>\n",
       "      <td>train</td>\n",
       "      <td>[96000, 128000]</td>\n",
       "      <td>train</td>\n",
       "      <td>1078_B</td>\n",
       "    </tr>\n",
       "    <tr>\n",
       "      <th>1012</th>\n",
       "      <td>1078</td>\n",
       "      <td>D</td>\n",
       "      <td>12.114937</td>\n",
       "      <td>data/concatenated_audio_train/1078_D.wav</td>\n",
       "      <td>train</td>\n",
       "      <td>[96000, 128000]</td>\n",
       "      <td>train</td>\n",
       "      <td>1078_D</td>\n",
       "    </tr>\n",
       "    <tr>\n",
       "      <th>1013</th>\n",
       "      <td>1079</td>\n",
       "      <td>B</td>\n",
       "      <td>10.738437</td>\n",
       "      <td>data/concatenated_audio_train/1079_B.wav</td>\n",
       "      <td>train</td>\n",
       "      <td>[96000, 128000]</td>\n",
       "      <td>train</td>\n",
       "      <td>1079_B</td>\n",
       "    </tr>\n",
       "  </tbody>\n",
       "</table>\n",
       "<p>1014 rows × 8 columns</p>\n",
       "</div>"
      ],
      "text/plain": [
       "     baby_id period   duration                                 file_path   \n",
       "0       0005      B  43.894000  data/concatenated_audio_train/0005_B.wav  \\\n",
       "1       0005      D  33.774187  data/concatenated_audio_train/0005_D.wav   \n",
       "2       0006      B  30.170500  data/concatenated_audio_train/0006_B.wav   \n",
       "3       0007      B  35.722313  data/concatenated_audio_train/0007_B.wav   \n",
       "4       0008      B  55.656375  data/concatenated_audio_train/0008_B.wav   \n",
       "...      ...    ...        ...                                       ...   \n",
       "1009    1076      B  38.263500  data/concatenated_audio_train/1076_B.wav   \n",
       "1010    1076      D  16.064750  data/concatenated_audio_train/1076_D.wav   \n",
       "1011    1078      B  10.075750  data/concatenated_audio_train/1078_B.wav   \n",
       "1012    1078      D  12.114937  data/concatenated_audio_train/1078_D.wav   \n",
       "1013    1079      B  10.738437  data/concatenated_audio_train/1079_B.wav   \n",
       "\n",
       "     train_split cut_length_interval_in_frames  split      id  \n",
       "0            dev               [96000, 128000]  train  0005_B  \n",
       "1            dev               [96000, 128000]    val  0005_D  \n",
       "2          train               [96000, 128000]  train  0006_B  \n",
       "3          train               [96000, 128000]  train  0007_B  \n",
       "4          train               [96000, 128000]  train  0008_B  \n",
       "...          ...                           ...    ...     ...  \n",
       "1009       train               [96000, 128000]  train  1076_B  \n",
       "1010       train               [96000, 128000]  train  1076_D  \n",
       "1011       train               [96000, 128000]  train  1078_B  \n",
       "1012       train               [96000, 128000]  train  1078_D  \n",
       "1013       train               [96000, 128000]  train  1079_B  \n",
       "\n",
       "[1014 rows x 8 columns]"
      ]
     },
     "metadata": {},
     "output_type": "display_data"
    },
    {
     "data": {
      "text/plain": [
       "split\n",
       "train    974\n",
       "val       40\n",
       "Name: use_babies_with_both_recordings_and_split_by_period, dtype: int64"
      ]
     },
     "metadata": {},
     "output_type": "display_data"
    }
   ],
   "source": [
    "# we can train on any subset of babies (e.g. to reduce the number of classes, only keep babies with long enough cries, etc)\n",
    "def get_babies_with_both_recordings(manifest_df):\n",
    "    count_of_periods_per_baby = manifest_df.groupby(\"baby_id\")[\"period\"].count()\n",
    "    baby_ids_with_recording_from_both_periods = count_of_periods_per_baby[\n",
    "        count_of_periods_per_baby >0\n",
    "    ].index\n",
    "    return baby_ids_with_recording_from_both_periods\n",
    "\n",
    "\n",
    "# def get_babies_with_a_birth_recording(manifest_df):\n",
    "#   bool_series = manifest_df.groupby('baby_id')['period'].unique().apply(set(['B']).issubset)\n",
    "#   baby_ids_with_a_recordings_from_birth = bool_series[bool_series].index\n",
    "#   return baby_ids_with_a_recordings_from_birth\n",
    "\n",
    "\n",
    "def split_by_period(row, included_baby_ids):\n",
    "    if row[\"baby_id\"] in included_baby_ids:\n",
    "        if row[\"period\"] == \"D\" and row[\"train_split\"] == \"dev\":\n",
    "            return \"val\"\n",
    "        else:\n",
    "            return \"train\"\n",
    "    else:\n",
    "        return \"not_used\"\n",
    "\n",
    "\n",
    "babies_with_both_recordings = get_babies_with_both_recordings(manifest_df)\n",
    "manifest_df[\"split\"] = manifest_df.apply(\n",
    "    lambda row: split_by_period(row, included_baby_ids=babies_with_both_recordings), axis=1\n",
    ")\n",
    "\n",
    "# each instance will be identified with a unique id\n",
    "manifest_df[\"id\"] = manifest_df[\"baby_id\"] + \"_\" + manifest_df[\"period\"]\n",
    "display(manifest_df)\n",
    "display(\n",
    "    manifest_df[\"split\"]\n",
    "    .value_counts()\n",
    "    .rename(\"use_babies_with_both_recordings_and_split_by_period\")\n",
    ")\n",
    "manifest_df.set_index(\"id\").to_json(\"manifest.json\", orient=\"index\")"
   ]
  },
  {
   "attachments": {},
   "cell_type": "markdown",
   "metadata": {
    "id": "N2X-8Zs2-Mhm"
   },
   "source": [
    "### Create dynamic datasets\n",
    "\n",
    "See SpeechBrain documentation to understand details"
   ]
  },
  {
   "cell_type": "code",
   "execution_count": 11,
   "metadata": {
    "colab": {
     "base_uri": "https://localhost:8080/"
    },
    "executionInfo": {
     "elapsed": 107,
     "status": "ok",
     "timestamp": 1683904924648,
     "user": {
      "displayName": "David Budaghyan",
      "userId": "04476631309743002593"
     },
     "user_tz": 240
    },
    "id": "1NxmeLy_fj99",
    "outputId": "6ca4659d-4083-4a79-ccdd-241d6501a7df"
   },
   "outputs": [
    {
     "name": "stdout",
     "output_type": "stream",
     "text": [
      "{'id': '0839_D', 'baby_id': '0839', 'baby_id_encoded': tensor([0]), 'sig': tensor([-3.9673e-04, -6.1035e-04, -8.8501e-04,  ..., -6.1035e-05,\n",
      "         9.1553e-05, -1.8311e-04])}\n"
     ]
    }
   ],
   "source": [
    "# create a dynamic dataset from the csv, only used to create train and val datasets\n",
    "dataset = DynamicItemDataset.from_json(\"manifest.json\")\n",
    "baby_id_encoder = CategoricalEncoder()\n",
    "datasets = {}\n",
    "# create a dataset for each split\n",
    "for split in [\"train\", \"val\"]:\n",
    "    # retrieve the desired slice (train or val) and sort by length to minimize amount of padding\n",
    "    datasets[split] = dataset.filtered_sorted(\n",
    "        key_test={\"split\": lambda value: value == split}, sort_key=\"duration\"\n",
    "    )  # select_n=100\n",
    "    # create the baby_id_encoded field\n",
    "    datasets[split].add_dynamic_item(\n",
    "        baby_id_encoder.encode_label_torch, takes=\"baby_id\", provides=\"baby_id_encoded\"\n",
    "    )\n",
    "    # set visible fields\n",
    "    datasets[split].set_output_keys([\"id\", \"baby_id\", \"baby_id_encoded\", \"sig\"])\n",
    "\n",
    "\n",
    "# create the signal field for the val split (no chunking)\n",
    "datasets[\"val\"].add_dynamic_item(sb.dataio.dataio.read_audio, takes=\"file_path\", provides=\"sig\")\n",
    "\n",
    "# the label encoder will map the baby_ids to target classes 0, 1, 2, ...\n",
    "# only use the classes which appear in `train`,\n",
    "baby_id_encoder.update_from_didataset(datasets[\"train\"], \"baby_id\")\n",
    "\n",
    "\n",
    "# for reading the train split, we add chunking\n",
    "def audio_pipeline(file_path, cut_length_interval_in_frames):\n",
    "    \"\"\"Load the signal, and pass it and its length to the corruption class.\n",
    "    This is done on the CPU in the `collate_fn`.\"\"\"\n",
    "    sig = sb.dataio.dataio.read_audio(file_path)\n",
    "    if cut_length_interval_in_frames is not None:\n",
    "        cut_length = random.randint(*cut_length_interval_in_frames)\n",
    "        # pick the start index of the cut\n",
    "        left_index = random.randint(0, len(sig) - cut_length)\n",
    "        # cut the signal\n",
    "        sig = sig[left_index : left_index + cut_length]\n",
    "    return sig\n",
    "\n",
    "\n",
    "# create the signal field (with chunking)\n",
    "datasets[\"train\"].add_dynamic_item(\n",
    "    audio_pipeline, takes=[\"file_path\", \"cut_length_interval_in_frames\"], provides=\"sig\"\n",
    ")\n",
    "\n",
    "print(datasets[\"train\"][0])"
   ]
  },
  {
   "attachments": {},
   "cell_type": "markdown",
   "metadata": {
    "id": "bbwH78P8_TOd"
   },
   "source": [
    "### Fine-tune the classifier\n",
    "\n",
    "Here we use a very basic example that just trains for 5 epochs"
   ]
  },
  {
   "cell_type": "code",
   "execution_count": 8,
   "metadata": {
    "colab": {
     "base_uri": "https://localhost:8080/"
    },
    "executionInfo": {
     "elapsed": 94,
     "status": "ok",
     "timestamp": 1683904924651,
     "user": {
      "displayName": "David Budaghyan",
      "userId": "04476631309743002593"
     },
     "user_tz": 240
    },
    "id": "ixojL5uH5y1V",
    "outputId": "de735a57-42da-41ab-8860-1665874edf15"
   },
   "outputs": [
    {
     "name": "stdout",
     "output_type": "stream",
     "text": [
      "setting seeds to 3011\n",
      "setting cuda seeds to 3011\n",
      "lrsched_name: cyclic\n",
      "speechbrain.core - Beginning experiment!\n",
      "speechbrain.core - Experiment folder: ./experiments/ecapa_voxceleb_ft_basic\n",
      "speechbrain.core - Info: ckpt_interval_minutes arg from hparam file is used\n",
      "speechbrain.core - 20.9M trainable parameters in CryBrain\n"
     ]
    },
    {
     "ename": "RuntimeError",
     "evalue": "Error(s) in loading state_dict for Classifier:\n\tsize mismatch for weight: copying a param with shape torch.Size([7205, 192]) from checkpoint, the shape in current model is torch.Size([626, 192]).",
     "output_type": "error",
     "traceback": [
      "\u001b[0;31m---------------------------------------------------------------------------\u001b[0m",
      "\u001b[0;31mRuntimeError\u001b[0m                              Traceback (most recent call last)",
      "Cell \u001b[0;32mIn[8], line 34\u001b[0m\n\u001b[1;32m     32\u001b[0m \u001b[39m# if a pretrained model is specified, load it\u001b[39;00m\n\u001b[1;32m     33\u001b[0m crybrain\u001b[39m.\u001b[39mmodules\u001b[39m.\u001b[39membedding_model\u001b[39m.\u001b[39mload_state_dict(torch\u001b[39m.\u001b[39mload(\u001b[39m'\u001b[39m\u001b[39mspkrec-ecapa-voxceleb/embedding_model.ckpt\u001b[39m\u001b[39m'\u001b[39m))\n\u001b[0;32m---> 34\u001b[0m crybrain\u001b[39m.\u001b[39;49mmodules\u001b[39m.\u001b[39;49mclassifier\u001b[39m.\u001b[39;49mload_state_dict(torch\u001b[39m.\u001b[39;49mload(\u001b[39m'\u001b[39;49m\u001b[39mspkrec-ecapa-voxceleb/classifier.ckpt\u001b[39;49m\u001b[39m'\u001b[39;49m))\n\u001b[1;32m     36\u001b[0m crybrain\u001b[39m.\u001b[39mfit(\n\u001b[1;32m     37\u001b[0m     epoch_counter\u001b[39m=\u001b[39mcrybrain\u001b[39m.\u001b[39mhparams\u001b[39m.\u001b[39mepoch_counter,\n\u001b[1;32m     38\u001b[0m     train_set\u001b[39m=\u001b[39mdatasets[\u001b[39m\"\u001b[39m\u001b[39mtrain\u001b[39m\u001b[39m\"\u001b[39m],\n\u001b[0;32m   (...)\u001b[0m\n\u001b[1;32m     41\u001b[0m     valid_loader_kwargs\u001b[39m=\u001b[39mhparams[\u001b[39m\"\u001b[39m\u001b[39mval_dataloader_options\u001b[39m\u001b[39m\"\u001b[39m],\n\u001b[1;32m     42\u001b[0m )\n",
      "File \u001b[0;32m~/miniconda3/envs/COMPARE/lib/python3.10/site-packages/torch/nn/modules/module.py:2041\u001b[0m, in \u001b[0;36mModule.load_state_dict\u001b[0;34m(self, state_dict, strict)\u001b[0m\n\u001b[1;32m   2036\u001b[0m         error_msgs\u001b[39m.\u001b[39minsert(\n\u001b[1;32m   2037\u001b[0m             \u001b[39m0\u001b[39m, \u001b[39m'\u001b[39m\u001b[39mMissing key(s) in state_dict: \u001b[39m\u001b[39m{}\u001b[39;00m\u001b[39m. \u001b[39m\u001b[39m'\u001b[39m\u001b[39m.\u001b[39mformat(\n\u001b[1;32m   2038\u001b[0m                 \u001b[39m'\u001b[39m\u001b[39m, \u001b[39m\u001b[39m'\u001b[39m\u001b[39m.\u001b[39mjoin(\u001b[39m'\u001b[39m\u001b[39m\"\u001b[39m\u001b[39m{}\u001b[39;00m\u001b[39m\"\u001b[39m\u001b[39m'\u001b[39m\u001b[39m.\u001b[39mformat(k) \u001b[39mfor\u001b[39;00m k \u001b[39min\u001b[39;00m missing_keys)))\n\u001b[1;32m   2040\u001b[0m \u001b[39mif\u001b[39;00m \u001b[39mlen\u001b[39m(error_msgs) \u001b[39m>\u001b[39m \u001b[39m0\u001b[39m:\n\u001b[0;32m-> 2041\u001b[0m     \u001b[39mraise\u001b[39;00m \u001b[39mRuntimeError\u001b[39;00m(\u001b[39m'\u001b[39m\u001b[39mError(s) in loading state_dict for \u001b[39m\u001b[39m{}\u001b[39;00m\u001b[39m:\u001b[39m\u001b[39m\\n\u001b[39;00m\u001b[39m\\t\u001b[39;00m\u001b[39m{}\u001b[39;00m\u001b[39m'\u001b[39m\u001b[39m.\u001b[39mformat(\n\u001b[1;32m   2042\u001b[0m                        \u001b[39mself\u001b[39m\u001b[39m.\u001b[39m\u001b[39m__class__\u001b[39m\u001b[39m.\u001b[39m\u001b[39m__name__\u001b[39m, \u001b[39m\"\u001b[39m\u001b[39m\\n\u001b[39;00m\u001b[39m\\t\u001b[39;00m\u001b[39m\"\u001b[39m\u001b[39m.\u001b[39mjoin(error_msgs)))\n\u001b[1;32m   2043\u001b[0m \u001b[39mreturn\u001b[39;00m _IncompatibleKeys(missing_keys, unexpected_keys)\n",
      "\u001b[0;31mRuntimeError\u001b[0m: Error(s) in loading state_dict for Classifier:\n\tsize mismatch for weight: copying a param with shape torch.Size([7205, 192]) from checkpoint, the shape in current model is torch.Size([626, 192])."
     ]
    }
   ],
   "source": [
    "config_filename = \"hparams/ecapa_voxceleb_basic.yaml\"\n",
    "overrides = {\n",
    "    \"seed\": 3011,\n",
    "    \"n_classes\": len(baby_id_encoder),\n",
    "    \"experiment_name\": \"ecapa_voxceleb_ft_basic\",\n",
    "    \"bs\": 32,\n",
    "    \"n_epochs\": 125,\n",
    "}\n",
    "device = \"cuda:0\"\n",
    "run_opts = {\"device\": device}\n",
    "###########################################\n",
    "# Load hyperparameters file with command-line overrides.\n",
    "with open(config_filename) as fin:\n",
    "    hparams = load_hyperpyyaml(fin, overrides)\n",
    "\n",
    "# Create experiment directory\n",
    "sb.create_experiment_directory(\n",
    "    experiment_directory=hparams[\"experiment_dir\"],\n",
    "    hyperparams_to_save=config_filename,\n",
    "    overrides=overrides,\n",
    ")\n",
    "\n",
    "# Initialize the Brain object to prepare for training.\n",
    "crybrain = CryBrain(\n",
    "    modules=hparams[\"modules\"],\n",
    "    opt_class=hparams[\"opt_class\"],\n",
    "    hparams=hparams,\n",
    "    run_opts=run_opts,\n",
    "    checkpointer=hparams[\"checkpointer\"],\n",
    ")\n",
    "\n",
    "# if a pretrained model is specified, load it\n",
    "\n",
    "crybrain.fit(\n",
    "    epoch_counter=crybrain.hparams.epoch_counter,\n",
    "    train_set=datasets[\"train\"],\n",
    "    valid_set=datasets[\"val\"],\n",
    "    train_loader_kwargs=hparams[\"train_dataloader_options\"],\n",
    "    valid_loader_kwargs=hparams[\"val_dataloader_options\"],\n",
    ")"
   ]
  },
  {
   "attachments": {},
   "cell_type": "markdown",
   "metadata": {
    "id": "cVDparawc1YF"
   },
   "source": [
    "You can now use embedding_model.ckpt from this recipe and use it in evaluate.ipynb to verify pairs of cries and submit your results!"
   ]
  }
 ],
 "metadata": {
  "accelerator": "GPU",
  "colab": {
   "authorship_tag": "ABX9TyN+3g6dMDslVfuhfJgsJIst",
   "gpuType": "T4",
   "provenance": [],
   "toc_visible": true
  },
  "gpuClass": "standard",
  "kernelspec": {
   "display_name": "Python 3 (ipykernel)",
   "language": "python",
   "name": "python3"
  },
  "language_info": {
   "codemirror_mode": {
    "name": "ipython",
    "version": 3
   },
   "file_extension": ".py",
   "mimetype": "text/x-python",
   "name": "python",
   "nbconvert_exporter": "python",
   "pygments_lexer": "ipython3",
   "version": "3.10.11"
  }
 },
 "nbformat": 4,
 "nbformat_minor": 1
}
